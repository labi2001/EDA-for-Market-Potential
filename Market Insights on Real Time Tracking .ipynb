{
 "cells": [
  {
   "cell_type": "markdown",
   "id": "a7e2ab83",
   "metadata": {},
   "source": [
    "## Unlocking Market Potential: Insights into Customer Demand for Real-Time Tracking"
   ]
  },
  {
   "cell_type": "markdown",
   "id": "7f463720",
   "metadata": {},
   "source": [
    "### Aim of the Analysis\n",
    "\n",
    "- Explore and understand the survey dataset.\n",
    "\n",
    "- Describe respondent characteristics and survey responses.\n",
    "\n",
    "- Segment respondents based on relevant criteria.\n",
    "\n",
    "- Analyze correlations between variables.\n",
    "\n",
    "- Generate actionable insights and recommendations.\n",
    "\n",
    "- Validate hypotheses and support strategic decision-making."
   ]
  },
  {
   "cell_type": "code",
   "execution_count": null,
   "id": "ac83579c",
   "metadata": {},
   "outputs": [],
   "source": []
  },
  {
   "cell_type": "code",
   "execution_count": 135,
   "id": "91de9ed0",
   "metadata": {},
   "outputs": [],
   "source": [
    "#importing the required libraries libraries\n",
    "\n",
    "import pandas as pd \n",
    "import numpy as np\n",
    "import matplotlib.pyplot as plt\n",
    "%matplotlib inline \n",
    "import seaborn as sns"
   ]
  },
  {
   "cell_type": "code",
   "execution_count": 136,
   "id": "107e6e84",
   "metadata": {},
   "outputs": [
    {
     "data": {
      "text/html": [
       "<div>\n",
       "<style scoped>\n",
       "    .dataframe tbody tr th:only-of-type {\n",
       "        vertical-align: middle;\n",
       "    }\n",
       "\n",
       "    .dataframe tbody tr th {\n",
       "        vertical-align: top;\n",
       "    }\n",
       "\n",
       "    .dataframe thead th {\n",
       "        text-align: right;\n",
       "    }\n",
       "</style>\n",
       "<table border=\"1\" class=\"dataframe\">\n",
       "  <thead>\n",
       "    <tr style=\"text-align: right;\">\n",
       "      <th></th>\n",
       "      <th>Timestamp</th>\n",
       "      <th>1. What is your age range?</th>\n",
       "      <th>2. What is your gender?</th>\n",
       "      <th>3. Kindly state your country</th>\n",
       "      <th>4. Have you ever used the delivery services of an e-commerce company for shipping or delivery services?</th>\n",
       "      <th>5. Have you ever used a real-time tracking solution for your ordered lunch or breakfast/shipment/e-commerce order?</th>\n",
       "      <th>6. How often do you utilize the services of a logistics company with a tracking feature?</th>\n",
       "      <th>7. Do you receive your orders/packages/shipments at the agreed-upon time?</th>\n",
       "      <th>8. On a scale of 1 to 5, how easy is it for you to track your packages / shipments (1 being very difficult, 5 being very easy)</th>\n",
       "      <th>9. Please select the challenges you have faced while trying to track your packages  /   shipments. Select all that applies.</th>\n",
       "      <th>10. On a scale of 1 to 5, how satisfied are you with your current delivery tracking experience?</th>\n",
       "      <th>11. How important is it for you to receive real-time updates on the status and location of your packages / shipment?</th>\n",
       "      <th>12. Would you be willing to use a feature that integrates Maps to provide real-time location updates for your packages / shipments, allowing you to visualize and track its exact location in real life?</th>\n",
       "      <th>13. Would the availability of a real-time package/goods/shipment tracking feature increase your likelihood of you ordering goods online?</th>\n",
       "      <th>14. Is there anything you would like to share about your experiences with delivery tracking app or services?  Kindly state them below.</th>\n",
       "      <th>15. Is there any other feature you would like us to add to our real-time tracking solution? Kindly state them below.</th>\n",
       "    </tr>\n",
       "  </thead>\n",
       "  <tbody>\n",
       "    <tr>\n",
       "      <th>0</th>\n",
       "      <td>3/14/2024 19:55:32</td>\n",
       "      <td>18-35</td>\n",
       "      <td>Male</td>\n",
       "      <td>Lagos, Nigeria</td>\n",
       "      <td>Yes</td>\n",
       "      <td>NaN</td>\n",
       "      <td>Rarely (almost never)</td>\n",
       "      <td>Yes</td>\n",
       "      <td>3</td>\n",
       "      <td>Limited tracking options</td>\n",
       "      <td>3</td>\n",
       "      <td>Very important</td>\n",
       "      <td>Yes</td>\n",
       "      <td>Yes</td>\n",
       "      <td>None</td>\n",
       "      <td>NaN</td>\n",
       "    </tr>\n",
       "  </tbody>\n",
       "</table>\n",
       "</div>"
      ],
      "text/plain": [
       "            Timestamp 1. What is your age range?  2. What is your gender?    \\\n",
       "0  3/14/2024 19:55:32                       18-35                      Male   \n",
       "\n",
       "  3. Kindly state your country  \\\n",
       "0              Lagos, Nigeria    \n",
       "\n",
       "  4. Have you ever used the delivery services of an e-commerce company for shipping or delivery services?   \\\n",
       "0                                                Yes                                                         \n",
       "\n",
       "  5. Have you ever used a real-time tracking solution for your ordered lunch or breakfast/shipment/e-commerce order?   \\\n",
       "0                                                NaN                                                                    \n",
       "\n",
       "  6. How often do you utilize the services of a logistics company with a tracking feature?  \\\n",
       "0                              Rarely (almost never)                                         \n",
       "\n",
       "  7. Do you receive your orders/packages/shipments at the agreed-upon time?   \\\n",
       "0                                                Yes                           \n",
       "\n",
       "   8. On a scale of 1 to 5, how easy is it for you to track your packages / shipments (1 being very difficult, 5 being very easy)   \\\n",
       "0                                                  3                                                                                 \n",
       "\n",
       "  9. Please select the challenges you have faced while trying to track your packages  /   shipments. Select all that applies.   \\\n",
       "0                           Limited tracking options                                                                             \n",
       "\n",
       "   10. On a scale of 1 to 5, how satisfied are you with your current delivery tracking experience?   \\\n",
       "0                                                  3                                                  \n",
       "\n",
       "  11. How important is it for you to receive real-time updates on the status and location of your packages / shipment?   \\\n",
       "0                                     Very important                                                                      \n",
       "\n",
       "  12. Would you be willing to use a feature that integrates Maps to provide real-time location updates for your packages / shipments, allowing you to visualize and track its exact location in real life?  \\\n",
       "0                                                Yes                                                                                                                                                         \n",
       "\n",
       "  13. Would the availability of a real-time package/goods/shipment tracking feature increase your likelihood of you ordering goods online?   \\\n",
       "0                                                Yes                                                                                          \n",
       "\n",
       "  14. Is there anything you would like to share about your experiences with delivery tracking app or services?  Kindly state them below.  \\\n",
       "0                                              None                                                                                        \n",
       "\n",
       "  15. Is there any other feature you would like us to add to our real-time tracking solution? Kindly state them below.  \n",
       "0                                                NaN                                                                    "
      ]
     },
     "execution_count": 136,
     "metadata": {},
     "output_type": "execute_result"
    }
   ],
   "source": [
    "# load the data\n",
    "\n",
    "df = pd.read_csv(\"Real-time Tracking Solution (Responses) - Form Responses 1.csv\")\n",
    "df.head(1)"
   ]
  },
  {
   "cell_type": "markdown",
   "id": "889e4e21",
   "metadata": {},
   "source": [
    "### RENAMING THE COLUMN FOR READABILITY"
   ]
  },
  {
   "cell_type": "code",
   "execution_count": 137,
   "id": "8f48b2d7",
   "metadata": {},
   "outputs": [],
   "source": [
    "# Using Dictionary to map old column names to new column names\n",
    "\n",
    "new_column_name = {\"Timestamp\" : \"Time\",\n",
    "                  \"1. What is your age range? \": \"Age Range\",\n",
    "                   \"2. What is your gender?  \" : \"Gender\",\n",
    "                   \"3. Kindly state your country\" : \"Nationality\",\n",
    "                   \"4. Have you ever used the delivery services of an e-commerce company for shipping or delivery services? \" : \"Delivery_Service_Use\",\n",
    "                   \"5. Have you ever used a real-time tracking solution for your ordered lunch or breakfast/shipment/e-commerce order? \" : \"RealTime_Tracking_Usage\",\n",
    "                   \"6. How often do you utilize the services of a logistics company with a tracking feature?\": \"Delivery_Service_Frequency\",\n",
    "                   \"7. Do you receive your orders/packages/shipments at the agreed-upon time? \": \"On_Time_Delivery\",\n",
    "                   \"8. On a scale of 1 to 5, how easy is it for you to track your packages / shipments (1 being very difficult, 5 being very easy) \": \"Tracking_Ease\",\n",
    "                   \"9. Please select the challenges you have faced while trying to track your packages  /   shipments. Select all that applies. \" : \"Tracking_Challenges\", \n",
    "                   \"10. On a scale of 1 to 5, how satisfied are you with your current delivery tracking experience? \" : \"Satisfaction_Level\",\n",
    "                   \"11. How important is it for you to receive real-time updates on the status and location of your packages / shipment? \" : \"RealTime_Update_Importance\",\n",
    "                   \"12. Would you be willing to use a feature that integrates Maps to provide real-time location updates for your packages / shipments, allowing you to visualize and track its exact location in real life?\" : \"Map_Integration_Willingness\",\n",
    "                   \"13. Would the availability of a real-time package/goods/shipment tracking feature increase your likelihood of you ordering goods online? \" : \"RealTime_Tracking_Effect\",\n",
    "                   \"14. Is there anything you would like to share about your experiences with delivery tracking app or services?  Kindly state them below.\" : \"Feedback\",\n",
    "                   \"15. Is there any other feature you would like us to add to our real-time tracking solution? Kindly state them below.\" : \"Feature_Request\"\n",
    "                  }\n"
   ]
  },
  {
   "cell_type": "code",
   "execution_count": 138,
   "id": "9cfce58d",
   "metadata": {},
   "outputs": [
    {
     "data": {
      "text/plain": [
       "Index(['Time', 'Age Range', 'Gender', 'Nationality', 'Delivery_Service_Use',\n",
       "       'RealTime_Tracking_Usage', 'Delivery_Service_Frequency',\n",
       "       'On_Time_Delivery', 'Tracking_Ease', 'Tracking_Challenges',\n",
       "       'Satisfaction_Level', 'RealTime_Update_Importance',\n",
       "       'Map_Integration_Willingness', 'RealTime_Tracking_Effect', 'Feedback',\n",
       "       'Feature_Request'],\n",
       "      dtype='object')"
      ]
     },
     "execution_count": 138,
     "metadata": {},
     "output_type": "execute_result"
    }
   ],
   "source": [
    "# updating the dataset\n",
    "\n",
    "df = df.rename(columns=new_column_name)\n",
    "\n",
    "\n",
    "df.columns"
   ]
  },
  {
   "cell_type": "markdown",
   "id": "14cfa61f",
   "metadata": {},
   "source": [
    "## UNDERSTANDING THE DATASET"
   ]
  },
  {
   "cell_type": "code",
   "execution_count": 139,
   "id": "9454609f",
   "metadata": {},
   "outputs": [
    {
     "data": {
      "text/html": [
       "<div>\n",
       "<style scoped>\n",
       "    .dataframe tbody tr th:only-of-type {\n",
       "        vertical-align: middle;\n",
       "    }\n",
       "\n",
       "    .dataframe tbody tr th {\n",
       "        vertical-align: top;\n",
       "    }\n",
       "\n",
       "    .dataframe thead th {\n",
       "        text-align: right;\n",
       "    }\n",
       "</style>\n",
       "<table border=\"1\" class=\"dataframe\">\n",
       "  <thead>\n",
       "    <tr style=\"text-align: right;\">\n",
       "      <th></th>\n",
       "      <th>Time</th>\n",
       "      <th>Age Range</th>\n",
       "      <th>Gender</th>\n",
       "      <th>Nationality</th>\n",
       "      <th>Delivery_Service_Use</th>\n",
       "      <th>RealTime_Tracking_Usage</th>\n",
       "      <th>Delivery_Service_Frequency</th>\n",
       "      <th>On_Time_Delivery</th>\n",
       "      <th>Tracking_Ease</th>\n",
       "      <th>Tracking_Challenges</th>\n",
       "      <th>Satisfaction_Level</th>\n",
       "      <th>RealTime_Update_Importance</th>\n",
       "      <th>Map_Integration_Willingness</th>\n",
       "      <th>RealTime_Tracking_Effect</th>\n",
       "      <th>Feedback</th>\n",
       "      <th>Feature_Request</th>\n",
       "    </tr>\n",
       "  </thead>\n",
       "  <tbody>\n",
       "    <tr>\n",
       "      <th>0</th>\n",
       "      <td>3/14/2024 19:55:32</td>\n",
       "      <td>18-35</td>\n",
       "      <td>Male</td>\n",
       "      <td>Lagos, Nigeria</td>\n",
       "      <td>Yes</td>\n",
       "      <td>NaN</td>\n",
       "      <td>Rarely (almost never)</td>\n",
       "      <td>Yes</td>\n",
       "      <td>3</td>\n",
       "      <td>Limited tracking options</td>\n",
       "      <td>3</td>\n",
       "      <td>Very important</td>\n",
       "      <td>Yes</td>\n",
       "      <td>Yes</td>\n",
       "      <td>None</td>\n",
       "      <td>NaN</td>\n",
       "    </tr>\n",
       "    <tr>\n",
       "      <th>1</th>\n",
       "      <td>3/15/2024 20:20:02</td>\n",
       "      <td>18-35</td>\n",
       "      <td>Female</td>\n",
       "      <td>Nigeria</td>\n",
       "      <td>Yes</td>\n",
       "      <td>NaN</td>\n",
       "      <td>Rarely (almost never)</td>\n",
       "      <td>Yes</td>\n",
       "      <td>1</td>\n",
       "      <td>Lack of tracking information, Communication is...</td>\n",
       "      <td>3</td>\n",
       "      <td>Very important</td>\n",
       "      <td>Yes</td>\n",
       "      <td>Yes</td>\n",
       "      <td>NaN</td>\n",
       "      <td>NaN</td>\n",
       "    </tr>\n",
       "    <tr>\n",
       "      <th>2</th>\n",
       "      <td>3/18/2024 12:01:04</td>\n",
       "      <td>18-35</td>\n",
       "      <td>Female</td>\n",
       "      <td>Nigeria</td>\n",
       "      <td>Yes</td>\n",
       "      <td>No</td>\n",
       "      <td>Rarely (almost never)</td>\n",
       "      <td>Yes</td>\n",
       "      <td>3</td>\n",
       "      <td>Delayed delivery, Lack of tracking information...</td>\n",
       "      <td>2</td>\n",
       "      <td>Extremely important</td>\n",
       "      <td>Yes</td>\n",
       "      <td>Yes</td>\n",
       "      <td>Timely delivery so I can go about my day.</td>\n",
       "      <td>The tracking history of your order like uber h...</td>\n",
       "    </tr>\n",
       "    <tr>\n",
       "      <th>3</th>\n",
       "      <td>3/18/2024 12:34:18</td>\n",
       "      <td>18-35</td>\n",
       "      <td>Female</td>\n",
       "      <td>Nigeria</td>\n",
       "      <td>Yes</td>\n",
       "      <td>No</td>\n",
       "      <td>Never</td>\n",
       "      <td>No</td>\n",
       "      <td>3</td>\n",
       "      <td>Delayed delivery, Lack of tracking information...</td>\n",
       "      <td>2</td>\n",
       "      <td>Very important</td>\n",
       "      <td>Yes</td>\n",
       "      <td>Yes</td>\n",
       "      <td>its always very unreliable and i don't get opt...</td>\n",
       "      <td>none for now</td>\n",
       "    </tr>\n",
       "    <tr>\n",
       "      <th>4</th>\n",
       "      <td>3/18/2024 15:17:10</td>\n",
       "      <td>35-60</td>\n",
       "      <td>Female</td>\n",
       "      <td>Nigeria</td>\n",
       "      <td>Yes</td>\n",
       "      <td>Yes</td>\n",
       "      <td>Multiple times a month</td>\n",
       "      <td>No</td>\n",
       "      <td>4</td>\n",
       "      <td>Communication issues with carrier</td>\n",
       "      <td>3</td>\n",
       "      <td>Very important</td>\n",
       "      <td>Yes</td>\n",
       "      <td>Yes</td>\n",
       "      <td>Nothing</td>\n",
       "      <td>NaN</td>\n",
       "    </tr>\n",
       "  </tbody>\n",
       "</table>\n",
       "</div>"
      ],
      "text/plain": [
       "                 Time Age Range  Gender      Nationality Delivery_Service_Use  \\\n",
       "0  3/14/2024 19:55:32     18-35    Male  Lagos, Nigeria                   Yes   \n",
       "1  3/15/2024 20:20:02     18-35  Female         Nigeria                   Yes   \n",
       "2  3/18/2024 12:01:04     18-35  Female         Nigeria                   Yes   \n",
       "3  3/18/2024 12:34:18     18-35  Female          Nigeria                  Yes   \n",
       "4  3/18/2024 15:17:10     35-60  Female         Nigeria                   Yes   \n",
       "\n",
       "  RealTime_Tracking_Usage Delivery_Service_Frequency On_Time_Delivery  \\\n",
       "0                     NaN      Rarely (almost never)              Yes   \n",
       "1                     NaN      Rarely (almost never)              Yes   \n",
       "2                      No      Rarely (almost never)              Yes   \n",
       "3                      No                      Never               No   \n",
       "4                     Yes     Multiple times a month               No   \n",
       "\n",
       "   Tracking_Ease                                Tracking_Challenges  \\\n",
       "0              3                           Limited tracking options   \n",
       "1              1  Lack of tracking information, Communication is...   \n",
       "2              3  Delayed delivery, Lack of tracking information...   \n",
       "3              3  Delayed delivery, Lack of tracking information...   \n",
       "4              4                  Communication issues with carrier   \n",
       "\n",
       "   Satisfaction_Level RealTime_Update_Importance Map_Integration_Willingness  \\\n",
       "0                   3             Very important                         Yes   \n",
       "1                   3             Very important                         Yes   \n",
       "2                   2        Extremely important                         Yes   \n",
       "3                   2             Very important                         Yes   \n",
       "4                   3             Very important                         Yes   \n",
       "\n",
       "  RealTime_Tracking_Effect                                           Feedback  \\\n",
       "0                      Yes                                              None    \n",
       "1                      Yes                                                NaN   \n",
       "2                      Yes          Timely delivery so I can go about my day.   \n",
       "3                      Yes  its always very unreliable and i don't get opt...   \n",
       "4                      Yes                                           Nothing    \n",
       "\n",
       "                                     Feature_Request  \n",
       "0                                                NaN  \n",
       "1                                                NaN  \n",
       "2  The tracking history of your order like uber h...  \n",
       "3                                       none for now  \n",
       "4                                                NaN  "
      ]
     },
     "execution_count": 139,
     "metadata": {},
     "output_type": "execute_result"
    }
   ],
   "source": [
    "# printing up the first 5 dataset\n",
    "\n",
    "df.head()"
   ]
  },
  {
   "cell_type": "code",
   "execution_count": 140,
   "id": "e65f0e52",
   "metadata": {},
   "outputs": [
    {
     "data": {
      "text/plain": [
       "(176, 16)"
      ]
     },
     "execution_count": 140,
     "metadata": {},
     "output_type": "execute_result"
    }
   ],
   "source": [
    "# number of column and rows of dataset\n",
    "\n",
    "df.shape"
   ]
  },
  {
   "cell_type": "code",
   "execution_count": 141,
   "id": "991a6488",
   "metadata": {},
   "outputs": [
    {
     "name": "stdout",
     "output_type": "stream",
     "text": [
      "<class 'pandas.core.frame.DataFrame'>\n",
      "RangeIndex: 176 entries, 0 to 175\n",
      "Data columns (total 16 columns):\n",
      " #   Column                       Non-Null Count  Dtype \n",
      "---  ------                       --------------  ----- \n",
      " 0   Time                         176 non-null    object\n",
      " 1   Age Range                    176 non-null    object\n",
      " 2   Gender                       176 non-null    object\n",
      " 3   Nationality                  176 non-null    object\n",
      " 4   Delivery_Service_Use         176 non-null    object\n",
      " 5   RealTime_Tracking_Usage      174 non-null    object\n",
      " 6   Delivery_Service_Frequency   176 non-null    object\n",
      " 7   On_Time_Delivery             176 non-null    object\n",
      " 8   Tracking_Ease                176 non-null    int64 \n",
      " 9   Tracking_Challenges          176 non-null    object\n",
      " 10  Satisfaction_Level           176 non-null    int64 \n",
      " 11  RealTime_Update_Importance   176 non-null    object\n",
      " 12  Map_Integration_Willingness  176 non-null    object\n",
      " 13  RealTime_Tracking_Effect     176 non-null    object\n",
      " 14  Feedback                     149 non-null    object\n",
      " 15  Feature_Request              149 non-null    object\n",
      "dtypes: int64(2), object(14)\n",
      "memory usage: 22.1+ KB\n"
     ]
    }
   ],
   "source": [
    "# to get concise summary of the dataset\n",
    "\n",
    "df.info()"
   ]
  },
  {
   "cell_type": "code",
   "execution_count": 142,
   "id": "b9053f4d",
   "metadata": {},
   "outputs": [
    {
     "data": {
      "text/html": [
       "<div>\n",
       "<style scoped>\n",
       "    .dataframe tbody tr th:only-of-type {\n",
       "        vertical-align: middle;\n",
       "    }\n",
       "\n",
       "    .dataframe tbody tr th {\n",
       "        vertical-align: top;\n",
       "    }\n",
       "\n",
       "    .dataframe thead th {\n",
       "        text-align: right;\n",
       "    }\n",
       "</style>\n",
       "<table border=\"1\" class=\"dataframe\">\n",
       "  <thead>\n",
       "    <tr style=\"text-align: right;\">\n",
       "      <th></th>\n",
       "      <th>Tracking_Ease</th>\n",
       "      <th>Satisfaction_Level</th>\n",
       "    </tr>\n",
       "  </thead>\n",
       "  <tbody>\n",
       "    <tr>\n",
       "      <th>count</th>\n",
       "      <td>176.000000</td>\n",
       "      <td>176.000000</td>\n",
       "    </tr>\n",
       "    <tr>\n",
       "      <th>mean</th>\n",
       "      <td>3.272727</td>\n",
       "      <td>3.193182</td>\n",
       "    </tr>\n",
       "    <tr>\n",
       "      <th>std</th>\n",
       "      <td>1.097814</td>\n",
       "      <td>0.886185</td>\n",
       "    </tr>\n",
       "    <tr>\n",
       "      <th>min</th>\n",
       "      <td>1.000000</td>\n",
       "      <td>1.000000</td>\n",
       "    </tr>\n",
       "    <tr>\n",
       "      <th>25%</th>\n",
       "      <td>3.000000</td>\n",
       "      <td>3.000000</td>\n",
       "    </tr>\n",
       "    <tr>\n",
       "      <th>50%</th>\n",
       "      <td>3.000000</td>\n",
       "      <td>3.000000</td>\n",
       "    </tr>\n",
       "    <tr>\n",
       "      <th>75%</th>\n",
       "      <td>4.000000</td>\n",
       "      <td>4.000000</td>\n",
       "    </tr>\n",
       "    <tr>\n",
       "      <th>max</th>\n",
       "      <td>5.000000</td>\n",
       "      <td>5.000000</td>\n",
       "    </tr>\n",
       "  </tbody>\n",
       "</table>\n",
       "</div>"
      ],
      "text/plain": [
       "       Tracking_Ease  Satisfaction_Level\n",
       "count     176.000000          176.000000\n",
       "mean        3.272727            3.193182\n",
       "std         1.097814            0.886185\n",
       "min         1.000000            1.000000\n",
       "25%         3.000000            3.000000\n",
       "50%         3.000000            3.000000\n",
       "75%         4.000000            4.000000\n",
       "max         5.000000            5.000000"
      ]
     },
     "execution_count": 142,
     "metadata": {},
     "output_type": "execute_result"
    }
   ],
   "source": [
    "# statistical description of dataset\n",
    "\n",
    "df.describe()"
   ]
  },
  {
   "cell_type": "markdown",
   "id": "86f68ebf",
   "metadata": {},
   "source": [
    "## DESCRIPTIVE STATISTICS INSIGHTS\n",
    "\n",
    "- For \"Tracking_Ease\", the mean is approximately 3.27, and for \"Satisfaction_Level\", it is approximately 3.19. Both mean are close to the midpoint of the rating scale, This suggests that, on average, respondents provided moderate ratings for tracking ease and satisfaction level. \n",
    "\n",
    "\n",
    "- For both columns, the 25th, 50th, and 75th percentiles are relatively close, suggesting that the data is evenly distributed across the range of values.\n",
    "\n",
    "\n",
    "- Using the average (mean), majority of respondents finds tracking their packages and satisfaction level moderately easy, suggesting the process might be managable but there is still room for improvement. \n",
    "\n",
    "\n",
    "- When both satisfaction level and ease of tracking packages have the same mean value, it suggests a strong correlation between these two variables. Users who find tracking easy are likely to be satisfied, and vice versa. \n",
    "\n",
    "\n",
    "- This correlation underscores the importance of addressing both ease of tracking and overall satisfaction simultaneously. Improvements in tracking systems should aim to enhance user experience and satisfaction with the entire shipping process. Enhancing tracking systems would improve user satisfaction with their entire experience\n"
   ]
  },
  {
   "cell_type": "code",
   "execution_count": 143,
   "id": "5a2c2c82",
   "metadata": {},
   "outputs": [
    {
     "data": {
      "text/plain": [
       "Time                            0\n",
       "Age Range                       0\n",
       "Gender                          0\n",
       "Nationality                     0\n",
       "Delivery_Service_Use            0\n",
       "RealTime_Tracking_Usage         2\n",
       "Delivery_Service_Frequency      0\n",
       "On_Time_Delivery                0\n",
       "Tracking_Ease                   0\n",
       "Tracking_Challenges             0\n",
       "Satisfaction_Level              0\n",
       "RealTime_Update_Importance      0\n",
       "Map_Integration_Willingness     0\n",
       "RealTime_Tracking_Effect        0\n",
       "Feedback                       27\n",
       "Feature_Request                27\n",
       "dtype: int64"
      ]
     },
     "execution_count": 143,
     "metadata": {},
     "output_type": "execute_result"
    }
   ],
   "source": [
    "# to check for NaN value in the dataset\n",
    "\n",
    "df.isnull().sum()"
   ]
  },
  {
   "cell_type": "code",
   "execution_count": 144,
   "id": "4f586225",
   "metadata": {},
   "outputs": [
    {
     "data": {
      "text/plain": [
       "0"
      ]
     },
     "execution_count": 144,
     "metadata": {},
     "output_type": "execute_result"
    }
   ],
   "source": [
    "# to check for duplicated value in the dataset\n",
    "\n",
    "df.duplicated().sum()"
   ]
  },
  {
   "cell_type": "markdown",
   "id": "bc992863",
   "metadata": {},
   "source": [
    "## DATA CLEANING"
   ]
  },
  {
   "cell_type": "markdown",
   "id": "074b900d",
   "metadata": {},
   "source": [
    "### Handling Missing Values\n",
    "\n",
    "\n"
   ]
  },
  {
   "cell_type": "code",
   "execution_count": 145,
   "id": "6961e87c",
   "metadata": {},
   "outputs": [
    {
     "data": {
      "image/png": "[encoded data removed]",
      "text/plain": [
       "<Figure size 1600x500 with 1 Axes>"
      ]
     },
     "metadata": {},
     "output_type": "display_data"
    }
   ],
   "source": [
    "# visualizing our missing data\n",
    "\n",
    "missing = pd.DataFrame((df.isnull().sum()) * 100 / df.shape[0]).reset_index()\n",
    "plt.figure (figsize = (16, 5))\n",
    "ax = sns.pointplot (x = \"index\", y = 0, data = missing)\n",
    "plt.xticks (rotation = 90, fontsize = 7)\n",
    "plt.title (\"Percentage of missing values\")\n",
    "plt.ylabel (\"PERCENTAGE\")\n",
    "plt.show()"
   ]
  },
  {
   "cell_type": "markdown",
   "id": "ac184d7a",
   "metadata": {},
   "source": [
    "- Null values are present in realtime tracking usage, feedback and feature request columns\n"
   ]
  },
  {
   "cell_type": "markdown",
   "id": "ddf9bc40",
   "metadata": {},
   "source": [
    " - Dropping unnecessary columns"
   ]
  },
  {
   "cell_type": "code",
   "execution_count": 146,
   "id": "68b38278",
   "metadata": {},
   "outputs": [
    {
     "data": {
      "text/html": [
       "<div>\n",
       "<style scoped>\n",
       "    .dataframe tbody tr th:only-of-type {\n",
       "        vertical-align: middle;\n",
       "    }\n",
       "\n",
       "    .dataframe tbody tr th {\n",
       "        vertical-align: top;\n",
       "    }\n",
       "\n",
       "    .dataframe thead th {\n",
       "        text-align: right;\n",
       "    }\n",
       "</style>\n",
       "<table border=\"1\" class=\"dataframe\">\n",
       "  <thead>\n",
       "    <tr style=\"text-align: right;\">\n",
       "      <th></th>\n",
       "      <th>Age Range</th>\n",
       "      <th>Gender</th>\n",
       "      <th>Nationality</th>\n",
       "      <th>Delivery_Service_Use</th>\n",
       "      <th>RealTime_Tracking_Usage</th>\n",
       "      <th>Delivery_Service_Frequency</th>\n",
       "      <th>On_Time_Delivery</th>\n",
       "      <th>Tracking_Ease</th>\n",
       "      <th>Tracking_Challenges</th>\n",
       "      <th>Satisfaction_Level</th>\n",
       "      <th>RealTime_Update_Importance</th>\n",
       "      <th>Map_Integration_Willingness</th>\n",
       "      <th>RealTime_Tracking_Effect</th>\n",
       "    </tr>\n",
       "  </thead>\n",
       "  <tbody>\n",
       "    <tr>\n",
       "      <th>0</th>\n",
       "      <td>18-35</td>\n",
       "      <td>Male</td>\n",
       "      <td>Lagos, Nigeria</td>\n",
       "      <td>Yes</td>\n",
       "      <td>NaN</td>\n",
       "      <td>Rarely (almost never)</td>\n",
       "      <td>Yes</td>\n",
       "      <td>3</td>\n",
       "      <td>Limited tracking options</td>\n",
       "      <td>3</td>\n",
       "      <td>Very important</td>\n",
       "      <td>Yes</td>\n",
       "      <td>Yes</td>\n",
       "    </tr>\n",
       "    <tr>\n",
       "      <th>1</th>\n",
       "      <td>18-35</td>\n",
       "      <td>Female</td>\n",
       "      <td>Nigeria</td>\n",
       "      <td>Yes</td>\n",
       "      <td>NaN</td>\n",
       "      <td>Rarely (almost never)</td>\n",
       "      <td>Yes</td>\n",
       "      <td>1</td>\n",
       "      <td>Lack of tracking information, Communication is...</td>\n",
       "      <td>3</td>\n",
       "      <td>Very important</td>\n",
       "      <td>Yes</td>\n",
       "      <td>Yes</td>\n",
       "    </tr>\n",
       "  </tbody>\n",
       "</table>\n",
       "</div>"
      ],
      "text/plain": [
       "  Age Range  Gender      Nationality Delivery_Service_Use  \\\n",
       "0     18-35    Male  Lagos, Nigeria                   Yes   \n",
       "1     18-35  Female         Nigeria                   Yes   \n",
       "\n",
       "  RealTime_Tracking_Usage Delivery_Service_Frequency On_Time_Delivery  \\\n",
       "0                     NaN      Rarely (almost never)              Yes   \n",
       "1                     NaN      Rarely (almost never)              Yes   \n",
       "\n",
       "   Tracking_Ease                                Tracking_Challenges  \\\n",
       "0              3                           Limited tracking options   \n",
       "1              1  Lack of tracking information, Communication is...   \n",
       "\n",
       "   Satisfaction_Level RealTime_Update_Importance Map_Integration_Willingness  \\\n",
       "0                   3             Very important                         Yes   \n",
       "1                   3             Very important                         Yes   \n",
       "\n",
       "  RealTime_Tracking_Effect  \n",
       "0                      Yes  \n",
       "1                      Yes  "
      ]
     },
     "execution_count": 146,
     "metadata": {},
     "output_type": "execute_result"
    }
   ],
   "source": [
    "# dropping unnecessary columns \n",
    "\n",
    "new_df = df.drop([\"Time\", \"Feedback\", \"Feature_Request\"], axis = 1)\n",
    "\n",
    "new_df.head(2)"
   ]
  },
  {
   "cell_type": "code",
   "execution_count": 147,
   "id": "536fc99c",
   "metadata": {},
   "outputs": [
    {
     "data": {
      "text/html": [
       "<div>\n",
       "<style scoped>\n",
       "    .dataframe tbody tr th:only-of-type {\n",
       "        vertical-align: middle;\n",
       "    }\n",
       "\n",
       "    .dataframe tbody tr th {\n",
       "        vertical-align: top;\n",
       "    }\n",
       "\n",
       "    .dataframe thead th {\n",
       "        text-align: right;\n",
       "    }\n",
       "</style>\n",
       "<table border=\"1\" class=\"dataframe\">\n",
       "  <thead>\n",
       "    <tr style=\"text-align: right;\">\n",
       "      <th></th>\n",
       "      <th>Age Range</th>\n",
       "      <th>Gender</th>\n",
       "      <th>Nationality</th>\n",
       "      <th>Delivery_Service_Use</th>\n",
       "      <th>RealTime_Tracking_Usage</th>\n",
       "      <th>Delivery_Service_Frequency</th>\n",
       "      <th>On_Time_Delivery</th>\n",
       "      <th>Tracking_Ease</th>\n",
       "      <th>Tracking_Challenges</th>\n",
       "      <th>Satisfaction_Level</th>\n",
       "      <th>RealTime_Update_Importance</th>\n",
       "      <th>Map_Integration_Willingness</th>\n",
       "      <th>RealTime_Tracking_Effect</th>\n",
       "    </tr>\n",
       "  </thead>\n",
       "  <tbody>\n",
       "    <tr>\n",
       "      <th>0</th>\n",
       "      <td>18-35</td>\n",
       "      <td>Male</td>\n",
       "      <td>Lagos, Nigeria</td>\n",
       "      <td>Yes</td>\n",
       "      <td>NaN</td>\n",
       "      <td>Rarely (almost never)</td>\n",
       "      <td>Yes</td>\n",
       "      <td>3</td>\n",
       "      <td>Limited tracking options</td>\n",
       "      <td>3</td>\n",
       "      <td>Very important</td>\n",
       "      <td>Yes</td>\n",
       "      <td>Yes</td>\n",
       "    </tr>\n",
       "    <tr>\n",
       "      <th>1</th>\n",
       "      <td>18-35</td>\n",
       "      <td>Female</td>\n",
       "      <td>Nigeria</td>\n",
       "      <td>Yes</td>\n",
       "      <td>NaN</td>\n",
       "      <td>Rarely (almost never)</td>\n",
       "      <td>Yes</td>\n",
       "      <td>1</td>\n",
       "      <td>Lack of tracking information, Communication is...</td>\n",
       "      <td>3</td>\n",
       "      <td>Very important</td>\n",
       "      <td>Yes</td>\n",
       "      <td>Yes</td>\n",
       "    </tr>\n",
       "    <tr>\n",
       "      <th>2</th>\n",
       "      <td>18-35</td>\n",
       "      <td>Female</td>\n",
       "      <td>Nigeria</td>\n",
       "      <td>Yes</td>\n",
       "      <td>No</td>\n",
       "      <td>Rarely (almost never)</td>\n",
       "      <td>Yes</td>\n",
       "      <td>3</td>\n",
       "      <td>Delayed delivery, Lack of tracking information...</td>\n",
       "      <td>2</td>\n",
       "      <td>Extremely important</td>\n",
       "      <td>Yes</td>\n",
       "      <td>Yes</td>\n",
       "    </tr>\n",
       "    <tr>\n",
       "      <th>3</th>\n",
       "      <td>18-35</td>\n",
       "      <td>Female</td>\n",
       "      <td>Nigeria</td>\n",
       "      <td>Yes</td>\n",
       "      <td>No</td>\n",
       "      <td>Never</td>\n",
       "      <td>No</td>\n",
       "      <td>3</td>\n",
       "      <td>Delayed delivery, Lack of tracking information...</td>\n",
       "      <td>2</td>\n",
       "      <td>Very important</td>\n",
       "      <td>Yes</td>\n",
       "      <td>Yes</td>\n",
       "    </tr>\n",
       "    <tr>\n",
       "      <th>4</th>\n",
       "      <td>35-60</td>\n",
       "      <td>Female</td>\n",
       "      <td>Nigeria</td>\n",
       "      <td>Yes</td>\n",
       "      <td>Yes</td>\n",
       "      <td>Multiple times a month</td>\n",
       "      <td>No</td>\n",
       "      <td>4</td>\n",
       "      <td>Communication issues with carrier</td>\n",
       "      <td>3</td>\n",
       "      <td>Very important</td>\n",
       "      <td>Yes</td>\n",
       "      <td>Yes</td>\n",
       "    </tr>\n",
       "    <tr>\n",
       "      <th>...</th>\n",
       "      <td>...</td>\n",
       "      <td>...</td>\n",
       "      <td>...</td>\n",
       "      <td>...</td>\n",
       "      <td>...</td>\n",
       "      <td>...</td>\n",
       "      <td>...</td>\n",
       "      <td>...</td>\n",
       "      <td>...</td>\n",
       "      <td>...</td>\n",
       "      <td>...</td>\n",
       "      <td>...</td>\n",
       "      <td>...</td>\n",
       "    </tr>\n",
       "    <tr>\n",
       "      <th>171</th>\n",
       "      <td>18-35</td>\n",
       "      <td>Male</td>\n",
       "      <td>Nigeria</td>\n",
       "      <td>No</td>\n",
       "      <td>No</td>\n",
       "      <td>Never</td>\n",
       "      <td>No</td>\n",
       "      <td>5</td>\n",
       "      <td>Limited tracking options</td>\n",
       "      <td>3</td>\n",
       "      <td>1</td>\n",
       "      <td>Yes</td>\n",
       "      <td>Yes</td>\n",
       "    </tr>\n",
       "    <tr>\n",
       "      <th>172</th>\n",
       "      <td>35-60</td>\n",
       "      <td>Female</td>\n",
       "      <td>Nigeria</td>\n",
       "      <td>Yes</td>\n",
       "      <td>No</td>\n",
       "      <td>Rarely (almost never)</td>\n",
       "      <td>No</td>\n",
       "      <td>3</td>\n",
       "      <td>Limited tracking options</td>\n",
       "      <td>4</td>\n",
       "      <td>2</td>\n",
       "      <td>Yes</td>\n",
       "      <td>Yes</td>\n",
       "    </tr>\n",
       "    <tr>\n",
       "      <th>173</th>\n",
       "      <td>18-35</td>\n",
       "      <td>Female</td>\n",
       "      <td>Nigeria</td>\n",
       "      <td>Yes</td>\n",
       "      <td>Yes</td>\n",
       "      <td>Multiple times a month</td>\n",
       "      <td>Yes</td>\n",
       "      <td>3</td>\n",
       "      <td>Lack of tracking information, Communication is...</td>\n",
       "      <td>4</td>\n",
       "      <td>5</td>\n",
       "      <td>Yes</td>\n",
       "      <td>Yes</td>\n",
       "    </tr>\n",
       "    <tr>\n",
       "      <th>174</th>\n",
       "      <td>35-60</td>\n",
       "      <td>Male</td>\n",
       "      <td>Kaduna state Nigeria</td>\n",
       "      <td>Yes</td>\n",
       "      <td>Yes</td>\n",
       "      <td>Multiple times a week</td>\n",
       "      <td>Yes</td>\n",
       "      <td>5</td>\n",
       "      <td>Delayed delivery, Lack of tracking information</td>\n",
       "      <td>3</td>\n",
       "      <td>3</td>\n",
       "      <td>Yes</td>\n",
       "      <td>Neutral</td>\n",
       "    </tr>\n",
       "    <tr>\n",
       "      <th>175</th>\n",
       "      <td>35-60</td>\n",
       "      <td>Male</td>\n",
       "      <td>Nigeria</td>\n",
       "      <td>Yes</td>\n",
       "      <td>Yes</td>\n",
       "      <td>Multiple times a month</td>\n",
       "      <td>No</td>\n",
       "      <td>2</td>\n",
       "      <td>Delayed delivery, Communication issues with ca...</td>\n",
       "      <td>3</td>\n",
       "      <td>4</td>\n",
       "      <td>Yes</td>\n",
       "      <td>Yes</td>\n",
       "    </tr>\n",
       "  </tbody>\n",
       "</table>\n",
       "<p>176 rows × 13 columns</p>\n",
       "</div>"
      ],
      "text/plain": [
       "    Age Range  Gender           Nationality Delivery_Service_Use  \\\n",
       "0       18-35    Male       Lagos, Nigeria                   Yes   \n",
       "1       18-35  Female              Nigeria                   Yes   \n",
       "2       18-35  Female              Nigeria                   Yes   \n",
       "3       18-35  Female               Nigeria                  Yes   \n",
       "4       35-60  Female              Nigeria                   Yes   \n",
       "..        ...     ...                   ...                  ...   \n",
       "171     18-35    Male               Nigeria                   No   \n",
       "172     35-60  Female              Nigeria                   Yes   \n",
       "173     18-35  Female               Nigeria                  Yes   \n",
       "174     35-60    Male  Kaduna state Nigeria                  Yes   \n",
       "175     35-60    Male               Nigeria                  Yes   \n",
       "\n",
       "    RealTime_Tracking_Usage Delivery_Service_Frequency On_Time_Delivery  \\\n",
       "0                       NaN      Rarely (almost never)              Yes   \n",
       "1                       NaN      Rarely (almost never)              Yes   \n",
       "2                        No      Rarely (almost never)              Yes   \n",
       "3                        No                      Never               No   \n",
       "4                       Yes     Multiple times a month               No   \n",
       "..                      ...                        ...              ...   \n",
       "171                      No                      Never               No   \n",
       "172                      No      Rarely (almost never)               No   \n",
       "173                     Yes     Multiple times a month              Yes   \n",
       "174                     Yes      Multiple times a week              Yes   \n",
       "175                     Yes     Multiple times a month               No   \n",
       "\n",
       "     Tracking_Ease                                Tracking_Challenges  \\\n",
       "0                3                           Limited tracking options   \n",
       "1                1  Lack of tracking information, Communication is...   \n",
       "2                3  Delayed delivery, Lack of tracking information...   \n",
       "3                3  Delayed delivery, Lack of tracking information...   \n",
       "4                4                  Communication issues with carrier   \n",
       "..             ...                                                ...   \n",
       "171              5                           Limited tracking options   \n",
       "172              3                           Limited tracking options   \n",
       "173              3  Lack of tracking information, Communication is...   \n",
       "174              5     Delayed delivery, Lack of tracking information   \n",
       "175              2  Delayed delivery, Communication issues with ca...   \n",
       "\n",
       "     Satisfaction_Level RealTime_Update_Importance  \\\n",
       "0                     3             Very important   \n",
       "1                     3             Very important   \n",
       "2                     2        Extremely important   \n",
       "3                     2             Very important   \n",
       "4                     3             Very important   \n",
       "..                  ...                        ...   \n",
       "171                   3                          1   \n",
       "172                   4                          2   \n",
       "173                   4                          5   \n",
       "174                   3                          3   \n",
       "175                   3                          4   \n",
       "\n",
       "    Map_Integration_Willingness RealTime_Tracking_Effect  \n",
       "0                           Yes                      Yes  \n",
       "1                           Yes                      Yes  \n",
       "2                           Yes                      Yes  \n",
       "3                           Yes                      Yes  \n",
       "4                           Yes                      Yes  \n",
       "..                          ...                      ...  \n",
       "171                         Yes                      Yes  \n",
       "172                         Yes                      Yes  \n",
       "173                         Yes                      Yes  \n",
       "174                         Yes                  Neutral  \n",
       "175                         Yes                      Yes  \n",
       "\n",
       "[176 rows x 13 columns]"
      ]
     },
     "execution_count": 147,
     "metadata": {},
     "output_type": "execute_result"
    }
   ],
   "source": [
    "# new dataframe \n",
    "\n",
    "new_df"
   ]
  },
  {
   "cell_type": "code",
   "execution_count": 148,
   "id": "70b2b4f4",
   "metadata": {},
   "outputs": [
    {
     "data": {
      "text/plain": [
       "2"
      ]
     },
     "execution_count": 148,
     "metadata": {},
     "output_type": "execute_result"
    }
   ],
   "source": [
    "# for the null values in realtime tracking usage\n",
    "\n",
    "import statistics \n",
    "\n",
    "new_df[\"RealTime_Tracking_Usage\"].isnull().sum()"
   ]
  },
  {
   "cell_type": "markdown",
   "id": "6778572a",
   "metadata": {},
   "source": [
    "- Median would be used to fill in the missing values"
   ]
  },
  {
   "cell_type": "code",
   "execution_count": 149,
   "id": "acec5774",
   "metadata": {},
   "outputs": [],
   "source": [
    "\n",
    "\n",
    "new_value = {\"Yes\" : 1, \"No\" : 0}\n",
    "\n",
    "new_df[\"RealTime_Tracking_Usage\"] = new_df[\"RealTime_Tracking_Usage\"].replace(new_value)"
   ]
  },
  {
   "cell_type": "code",
   "execution_count": 150,
   "id": "0098d614",
   "metadata": {},
   "outputs": [
    {
     "data": {
      "text/plain": [
       "1.0"
      ]
     },
     "execution_count": 150,
     "metadata": {},
     "output_type": "execute_result"
    }
   ],
   "source": [
    "# to get the median values\n",
    "\n",
    "import statistics\n",
    "\n",
    "median = new_df[\"RealTime_Tracking_Usage\"].median()\n",
    "\n",
    "median"
   ]
  },
  {
   "cell_type": "code",
   "execution_count": 151,
   "id": "bc145f87",
   "metadata": {},
   "outputs": [],
   "source": [
    "#filling the missing value with the median \n",
    "\n",
    "new_df[\"RealTime_Tracking_Usage\"].fillna(median, inplace = True)\n"
   ]
  },
  {
   "cell_type": "code",
   "execution_count": 152,
   "id": "d0b75dbf",
   "metadata": {},
   "outputs": [
    {
     "data": {
      "text/plain": [
       "0"
      ]
     },
     "execution_count": 152,
     "metadata": {},
     "output_type": "execute_result"
    }
   ],
   "source": [
    "# checking for null values \n",
    "\n",
    "new_df[\"RealTime_Tracking_Usage\"].isnull().sum()"
   ]
  },
  {
   "cell_type": "code",
   "execution_count": 153,
   "id": "d7f9e7a9",
   "metadata": {},
   "outputs": [],
   "source": [
    "# convert it back to the initial state \n",
    "\n",
    "new_value = {1 : \"Yes\", 0 : \"No\"}\n",
    "\n",
    "new_df[\"RealTime_Tracking_Usage\"] = new_df[\"RealTime_Tracking_Usage\"].replace(new_value)"
   ]
  },
  {
   "cell_type": "code",
   "execution_count": 154,
   "id": "d07467fe",
   "metadata": {},
   "outputs": [
    {
     "data": {
      "text/html": [
       "<div>\n",
       "<style scoped>\n",
       "    .dataframe tbody tr th:only-of-type {\n",
       "        vertical-align: middle;\n",
       "    }\n",
       "\n",
       "    .dataframe tbody tr th {\n",
       "        vertical-align: top;\n",
       "    }\n",
       "\n",
       "    .dataframe thead th {\n",
       "        text-align: right;\n",
       "    }\n",
       "</style>\n",
       "<table border=\"1\" class=\"dataframe\">\n",
       "  <thead>\n",
       "    <tr style=\"text-align: right;\">\n",
       "      <th></th>\n",
       "      <th>Age Range</th>\n",
       "      <th>Gender</th>\n",
       "      <th>Nationality</th>\n",
       "      <th>Delivery_Service_Use</th>\n",
       "      <th>RealTime_Tracking_Usage</th>\n",
       "      <th>Delivery_Service_Frequency</th>\n",
       "      <th>On_Time_Delivery</th>\n",
       "      <th>Tracking_Ease</th>\n",
       "      <th>Tracking_Challenges</th>\n",
       "      <th>Satisfaction_Level</th>\n",
       "      <th>RealTime_Update_Importance</th>\n",
       "      <th>Map_Integration_Willingness</th>\n",
       "      <th>RealTime_Tracking_Effect</th>\n",
       "    </tr>\n",
       "  </thead>\n",
       "  <tbody>\n",
       "    <tr>\n",
       "      <th>0</th>\n",
       "      <td>18-35</td>\n",
       "      <td>Male</td>\n",
       "      <td>Lagos, Nigeria</td>\n",
       "      <td>Yes</td>\n",
       "      <td>Yes</td>\n",
       "      <td>Rarely (almost never)</td>\n",
       "      <td>Yes</td>\n",
       "      <td>3</td>\n",
       "      <td>Limited tracking options</td>\n",
       "      <td>3</td>\n",
       "      <td>Very important</td>\n",
       "      <td>Yes</td>\n",
       "      <td>Yes</td>\n",
       "    </tr>\n",
       "    <tr>\n",
       "      <th>1</th>\n",
       "      <td>18-35</td>\n",
       "      <td>Female</td>\n",
       "      <td>Nigeria</td>\n",
       "      <td>Yes</td>\n",
       "      <td>Yes</td>\n",
       "      <td>Rarely (almost never)</td>\n",
       "      <td>Yes</td>\n",
       "      <td>1</td>\n",
       "      <td>Lack of tracking information, Communication is...</td>\n",
       "      <td>3</td>\n",
       "      <td>Very important</td>\n",
       "      <td>Yes</td>\n",
       "      <td>Yes</td>\n",
       "    </tr>\n",
       "    <tr>\n",
       "      <th>2</th>\n",
       "      <td>18-35</td>\n",
       "      <td>Female</td>\n",
       "      <td>Nigeria</td>\n",
       "      <td>Yes</td>\n",
       "      <td>No</td>\n",
       "      <td>Rarely (almost never)</td>\n",
       "      <td>Yes</td>\n",
       "      <td>3</td>\n",
       "      <td>Delayed delivery, Lack of tracking information...</td>\n",
       "      <td>2</td>\n",
       "      <td>Extremely important</td>\n",
       "      <td>Yes</td>\n",
       "      <td>Yes</td>\n",
       "    </tr>\n",
       "    <tr>\n",
       "      <th>3</th>\n",
       "      <td>18-35</td>\n",
       "      <td>Female</td>\n",
       "      <td>Nigeria</td>\n",
       "      <td>Yes</td>\n",
       "      <td>No</td>\n",
       "      <td>Never</td>\n",
       "      <td>No</td>\n",
       "      <td>3</td>\n",
       "      <td>Delayed delivery, Lack of tracking information...</td>\n",
       "      <td>2</td>\n",
       "      <td>Very important</td>\n",
       "      <td>Yes</td>\n",
       "      <td>Yes</td>\n",
       "    </tr>\n",
       "    <tr>\n",
       "      <th>4</th>\n",
       "      <td>35-60</td>\n",
       "      <td>Female</td>\n",
       "      <td>Nigeria</td>\n",
       "      <td>Yes</td>\n",
       "      <td>Yes</td>\n",
       "      <td>Multiple times a month</td>\n",
       "      <td>No</td>\n",
       "      <td>4</td>\n",
       "      <td>Communication issues with carrier</td>\n",
       "      <td>3</td>\n",
       "      <td>Very important</td>\n",
       "      <td>Yes</td>\n",
       "      <td>Yes</td>\n",
       "    </tr>\n",
       "    <tr>\n",
       "      <th>...</th>\n",
       "      <td>...</td>\n",
       "      <td>...</td>\n",
       "      <td>...</td>\n",
       "      <td>...</td>\n",
       "      <td>...</td>\n",
       "      <td>...</td>\n",
       "      <td>...</td>\n",
       "      <td>...</td>\n",
       "      <td>...</td>\n",
       "      <td>...</td>\n",
       "      <td>...</td>\n",
       "      <td>...</td>\n",
       "      <td>...</td>\n",
       "    </tr>\n",
       "    <tr>\n",
       "      <th>171</th>\n",
       "      <td>18-35</td>\n",
       "      <td>Male</td>\n",
       "      <td>Nigeria</td>\n",
       "      <td>No</td>\n",
       "      <td>No</td>\n",
       "      <td>Never</td>\n",
       "      <td>No</td>\n",
       "      <td>5</td>\n",
       "      <td>Limited tracking options</td>\n",
       "      <td>3</td>\n",
       "      <td>1</td>\n",
       "      <td>Yes</td>\n",
       "      <td>Yes</td>\n",
       "    </tr>\n",
       "    <tr>\n",
       "      <th>172</th>\n",
       "      <td>35-60</td>\n",
       "      <td>Female</td>\n",
       "      <td>Nigeria</td>\n",
       "      <td>Yes</td>\n",
       "      <td>No</td>\n",
       "      <td>Rarely (almost never)</td>\n",
       "      <td>No</td>\n",
       "      <td>3</td>\n",
       "      <td>Limited tracking options</td>\n",
       "      <td>4</td>\n",
       "      <td>2</td>\n",
       "      <td>Yes</td>\n",
       "      <td>Yes</td>\n",
       "    </tr>\n",
       "    <tr>\n",
       "      <th>173</th>\n",
       "      <td>18-35</td>\n",
       "      <td>Female</td>\n",
       "      <td>Nigeria</td>\n",
       "      <td>Yes</td>\n",
       "      <td>Yes</td>\n",
       "      <td>Multiple times a month</td>\n",
       "      <td>Yes</td>\n",
       "      <td>3</td>\n",
       "      <td>Lack of tracking information, Communication is...</td>\n",
       "      <td>4</td>\n",
       "      <td>5</td>\n",
       "      <td>Yes</td>\n",
       "      <td>Yes</td>\n",
       "    </tr>\n",
       "    <tr>\n",
       "      <th>174</th>\n",
       "      <td>35-60</td>\n",
       "      <td>Male</td>\n",
       "      <td>Kaduna state Nigeria</td>\n",
       "      <td>Yes</td>\n",
       "      <td>Yes</td>\n",
       "      <td>Multiple times a week</td>\n",
       "      <td>Yes</td>\n",
       "      <td>5</td>\n",
       "      <td>Delayed delivery, Lack of tracking information</td>\n",
       "      <td>3</td>\n",
       "      <td>3</td>\n",
       "      <td>Yes</td>\n",
       "      <td>Neutral</td>\n",
       "    </tr>\n",
       "    <tr>\n",
       "      <th>175</th>\n",
       "      <td>35-60</td>\n",
       "      <td>Male</td>\n",
       "      <td>Nigeria</td>\n",
       "      <td>Yes</td>\n",
       "      <td>Yes</td>\n",
       "      <td>Multiple times a month</td>\n",
       "      <td>No</td>\n",
       "      <td>2</td>\n",
       "      <td>Delayed delivery, Communication issues with ca...</td>\n",
       "      <td>3</td>\n",
       "      <td>4</td>\n",
       "      <td>Yes</td>\n",
       "      <td>Yes</td>\n",
       "    </tr>\n",
       "  </tbody>\n",
       "</table>\n",
       "<p>176 rows × 13 columns</p>\n",
       "</div>"
      ],
      "text/plain": [
       "    Age Range  Gender           Nationality Delivery_Service_Use  \\\n",
       "0       18-35    Male       Lagos, Nigeria                   Yes   \n",
       "1       18-35  Female              Nigeria                   Yes   \n",
       "2       18-35  Female              Nigeria                   Yes   \n",
       "3       18-35  Female               Nigeria                  Yes   \n",
       "4       35-60  Female              Nigeria                   Yes   \n",
       "..        ...     ...                   ...                  ...   \n",
       "171     18-35    Male               Nigeria                   No   \n",
       "172     35-60  Female              Nigeria                   Yes   \n",
       "173     18-35  Female               Nigeria                  Yes   \n",
       "174     35-60    Male  Kaduna state Nigeria                  Yes   \n",
       "175     35-60    Male               Nigeria                  Yes   \n",
       "\n",
       "    RealTime_Tracking_Usage Delivery_Service_Frequency On_Time_Delivery  \\\n",
       "0                       Yes      Rarely (almost never)              Yes   \n",
       "1                       Yes      Rarely (almost never)              Yes   \n",
       "2                        No      Rarely (almost never)              Yes   \n",
       "3                        No                      Never               No   \n",
       "4                       Yes     Multiple times a month               No   \n",
       "..                      ...                        ...              ...   \n",
       "171                      No                      Never               No   \n",
       "172                      No      Rarely (almost never)               No   \n",
       "173                     Yes     Multiple times a month              Yes   \n",
       "174                     Yes      Multiple times a week              Yes   \n",
       "175                     Yes     Multiple times a month               No   \n",
       "\n",
       "     Tracking_Ease                                Tracking_Challenges  \\\n",
       "0                3                           Limited tracking options   \n",
       "1                1  Lack of tracking information, Communication is...   \n",
       "2                3  Delayed delivery, Lack of tracking information...   \n",
       "3                3  Delayed delivery, Lack of tracking information...   \n",
       "4                4                  Communication issues with carrier   \n",
       "..             ...                                                ...   \n",
       "171              5                           Limited tracking options   \n",
       "172              3                           Limited tracking options   \n",
       "173              3  Lack of tracking information, Communication is...   \n",
       "174              5     Delayed delivery, Lack of tracking information   \n",
       "175              2  Delayed delivery, Communication issues with ca...   \n",
       "\n",
       "     Satisfaction_Level RealTime_Update_Importance  \\\n",
       "0                     3             Very important   \n",
       "1                     3             Very important   \n",
       "2                     2        Extremely important   \n",
       "3                     2             Very important   \n",
       "4                     3             Very important   \n",
       "..                  ...                        ...   \n",
       "171                   3                          1   \n",
       "172                   4                          2   \n",
       "173                   4                          5   \n",
       "174                   3                          3   \n",
       "175                   3                          4   \n",
       "\n",
       "    Map_Integration_Willingness RealTime_Tracking_Effect  \n",
       "0                           Yes                      Yes  \n",
       "1                           Yes                      Yes  \n",
       "2                           Yes                      Yes  \n",
       "3                           Yes                      Yes  \n",
       "4                           Yes                      Yes  \n",
       "..                          ...                      ...  \n",
       "171                         Yes                      Yes  \n",
       "172                         Yes                      Yes  \n",
       "173                         Yes                      Yes  \n",
       "174                         Yes                  Neutral  \n",
       "175                         Yes                      Yes  \n",
       "\n",
       "[176 rows x 13 columns]"
      ]
     },
     "execution_count": 154,
     "metadata": {},
     "output_type": "execute_result"
    }
   ],
   "source": [
    "new_df"
   ]
  },
  {
   "cell_type": "markdown",
   "id": "70186489",
   "metadata": {},
   "source": [
    "## Standardizing Formats\n",
    "\n",
    "RealTime_Update_Importance contains both string and integers"
   ]
  },
  {
   "cell_type": "code",
   "execution_count": 155,
   "id": "b0028388",
   "metadata": {},
   "outputs": [
    {
     "data": {
      "text/plain": [
       "0           Very important\n",
       "1           Very important\n",
       "2      Extremely important\n",
       "3           Very important\n",
       "4           Very important\n",
       "              ...         \n",
       "171                      1\n",
       "172                      2\n",
       "173                      5\n",
       "174                      3\n",
       "175                      4\n",
       "Name: RealTime_Update_Importance, Length: 176, dtype: object"
      ]
     },
     "execution_count": 155,
     "metadata": {},
     "output_type": "execute_result"
    }
   ],
   "source": [
    "new_df[\"RealTime_Update_Importance\"]"
   ]
  },
  {
   "cell_type": "code",
   "execution_count": 156,
   "id": "1b4697fb",
   "metadata": {},
   "outputs": [],
   "source": [
    "# some of the values contains integer while the rest contains string\n",
    "\n",
    "# all would be converted to integer \n",
    "\n",
    "new_value = {\"Not important\" : 1, \"Slightly important\" : 2, \"Moderately important\" : 3, \"Very important\" : 4, \"Extremely important\" : 5}\n",
    "\n",
    "new_df[\"RealTime_Update_Importance\"] = new_df[\"RealTime_Update_Importance\"].replace(new_value)"
   ]
  },
  {
   "cell_type": "code",
   "execution_count": 157,
   "id": "7933c0c7",
   "metadata": {},
   "outputs": [
    {
     "data": {
      "text/plain": [
       "0      4\n",
       "1      4\n",
       "2      5\n",
       "3      4\n",
       "4      4\n",
       "      ..\n",
       "171    1\n",
       "172    2\n",
       "173    5\n",
       "174    3\n",
       "175    4\n",
       "Name: RealTime_Update_Importance, Length: 176, dtype: object"
      ]
     },
     "execution_count": 157,
     "metadata": {},
     "output_type": "execute_result"
    }
   ],
   "source": [
    "new_df[\"RealTime_Update_Importance\"]"
   ]
  },
  {
   "cell_type": "markdown",
   "id": "25fd3217",
   "metadata": {},
   "source": [
    "- Converting RealTime_Update_Importance from an object to an Integer"
   ]
  },
  {
   "cell_type": "code",
   "execution_count": 158,
   "id": "c5057112",
   "metadata": {},
   "outputs": [
    {
     "data": {
      "text/plain": [
       "0      4\n",
       "1      4\n",
       "2      5\n",
       "3      4\n",
       "4      4\n",
       "      ..\n",
       "171    1\n",
       "172    2\n",
       "173    5\n",
       "174    3\n",
       "175    4\n",
       "Name: RealTime_Update_Importance, Length: 176, dtype: int64"
      ]
     },
     "execution_count": 158,
     "metadata": {},
     "output_type": "execute_result"
    }
   ],
   "source": [
    "new_df[\"RealTime_Update_Importance\"] = new_df[\"RealTime_Update_Importance\"].astype(int)\n",
    "\n",
    "new_df[\"RealTime_Update_Importance\"]"
   ]
  },
  {
   "cell_type": "markdown",
   "id": "8ab8bfe4",
   "metadata": {},
   "source": [
    "## Handling Invalid Values\n",
    "\n",
    "Nationality are not properly grouped and contains some invalid values "
   ]
  },
  {
   "cell_type": "code",
   "execution_count": 159,
   "id": "24235e5f",
   "metadata": {},
   "outputs": [
    {
     "data": {
      "text/plain": [
       "Nationality\n",
       "Nigeria                 75\n",
       "Nigeria                 65\n",
       "United Kingdom           5\n",
       "Kenya                    3\n",
       "United Kingdom           3\n",
       "Canada                   2\n",
       "Australia                2\n",
       "Nigerian                 2\n",
       "Lagos, Nigeria           1\n",
       "Romania                  1\n",
       "Ghana                    1\n",
       "England                  1\n",
       "Nigeria 🇳🇬               1\n",
       "Lagos                    1\n",
       "Country                  1\n",
       "Kano                     1\n",
       " Nigeria                 1\n",
       "kenya                    1\n",
       "Enugu                    1\n",
       "USA                      1\n",
       "Cross River              1\n",
       "Abuja Nigeria            1\n",
       "Ghana                    1\n",
       "Kenya                    1\n",
       "Biafra                   1\n",
       "nigeria                  1\n",
       "Kaduna state Nigeria     1\n",
       "Name: count, dtype: int64"
      ]
     },
     "execution_count": 159,
     "metadata": {},
     "output_type": "execute_result"
    }
   ],
   "source": [
    "\n",
    "\n",
    "new_df[\"Nationality\"].value_counts()"
   ]
  },
  {
   "cell_type": "code",
   "execution_count": 160,
   "id": "788218a0",
   "metadata": {},
   "outputs": [],
   "source": [
    "new = {\"Lagos, Nigeria \":\"Nigeria\" ,\"Ghana \": \"Ghana\", \"Nigeria \": \"Nigeria\",\"Cross River \": \"Nigeria\",\"Enugu \": \"Nigeria\",\"Lagos \": \"Nigeria\",\"Nigeria 🇳🇬 \" : \"Nigeria\", \"Nigerian \": \"Nigeria\", \"United Kingdom \":\"United Kingdom\", \"Kenya \":\"Kenya\", \"Country\": \"Nigeria\",\n",
    "    \"nigeria\" : \"Nigeria\", \"Biafra\": \"Nigeria\", \"Abuja Nigeria\": \"Nigeria\", \"Kano\": \"Nigeria\", \"Kaduna state Nigeria\": \"Nigeria\", \"kenya\" : \"Kenya\", \"England\" : \"United Kingdom\", \" Nigeria\":\"Nigeria\"}\n",
    "\n",
    "new_df[\"Nationality\"] = new_df[\"Nationality\"].replace(new)"
   ]
  },
  {
   "cell_type": "code",
   "execution_count": 161,
   "id": "4f9ad108",
   "metadata": {},
   "outputs": [
    {
     "data": {
      "text/plain": [
       "Nationality\n",
       "Nigeria           154\n",
       "United Kingdom      9\n",
       "Kenya               5\n",
       "Australia           2\n",
       "Ghana               2\n",
       "Canada              2\n",
       "USA                 1\n",
       "Romania             1\n",
       "Name: count, dtype: int64"
      ]
     },
     "execution_count": 161,
     "metadata": {},
     "output_type": "execute_result"
    }
   ],
   "source": [
    "new_df[\"Nationality\"].value_counts()"
   ]
  },
  {
   "cell_type": "code",
   "execution_count": 162,
   "id": "cb19cc30",
   "metadata": {},
   "outputs": [
    {
     "data": {
      "text/html": [
       "<div>\n",
       "<style scoped>\n",
       "    .dataframe tbody tr th:only-of-type {\n",
       "        vertical-align: middle;\n",
       "    }\n",
       "\n",
       "    .dataframe tbody tr th {\n",
       "        vertical-align: top;\n",
       "    }\n",
       "\n",
       "    .dataframe thead th {\n",
       "        text-align: right;\n",
       "    }\n",
       "</style>\n",
       "<table border=\"1\" class=\"dataframe\">\n",
       "  <thead>\n",
       "    <tr style=\"text-align: right;\">\n",
       "      <th></th>\n",
       "      <th>Age Range</th>\n",
       "      <th>Gender</th>\n",
       "      <th>Nationality</th>\n",
       "      <th>Delivery_Service_Use</th>\n",
       "      <th>RealTime_Tracking_Usage</th>\n",
       "      <th>Delivery_Service_Frequency</th>\n",
       "      <th>On_Time_Delivery</th>\n",
       "      <th>Tracking_Ease</th>\n",
       "      <th>Tracking_Challenges</th>\n",
       "      <th>Satisfaction_Level</th>\n",
       "      <th>RealTime_Update_Importance</th>\n",
       "      <th>Map_Integration_Willingness</th>\n",
       "      <th>RealTime_Tracking_Effect</th>\n",
       "    </tr>\n",
       "  </thead>\n",
       "  <tbody>\n",
       "    <tr>\n",
       "      <th>0</th>\n",
       "      <td>18-35</td>\n",
       "      <td>Male</td>\n",
       "      <td>Nigeria</td>\n",
       "      <td>Yes</td>\n",
       "      <td>Yes</td>\n",
       "      <td>Rarely (almost never)</td>\n",
       "      <td>Yes</td>\n",
       "      <td>3</td>\n",
       "      <td>Limited tracking options</td>\n",
       "      <td>3</td>\n",
       "      <td>4</td>\n",
       "      <td>Yes</td>\n",
       "      <td>Yes</td>\n",
       "    </tr>\n",
       "    <tr>\n",
       "      <th>1</th>\n",
       "      <td>18-35</td>\n",
       "      <td>Female</td>\n",
       "      <td>Nigeria</td>\n",
       "      <td>Yes</td>\n",
       "      <td>Yes</td>\n",
       "      <td>Rarely (almost never)</td>\n",
       "      <td>Yes</td>\n",
       "      <td>1</td>\n",
       "      <td>Lack of tracking information, Communication is...</td>\n",
       "      <td>3</td>\n",
       "      <td>4</td>\n",
       "      <td>Yes</td>\n",
       "      <td>Yes</td>\n",
       "    </tr>\n",
       "    <tr>\n",
       "      <th>2</th>\n",
       "      <td>18-35</td>\n",
       "      <td>Female</td>\n",
       "      <td>Nigeria</td>\n",
       "      <td>Yes</td>\n",
       "      <td>No</td>\n",
       "      <td>Rarely (almost never)</td>\n",
       "      <td>Yes</td>\n",
       "      <td>3</td>\n",
       "      <td>Delayed delivery, Lack of tracking information...</td>\n",
       "      <td>2</td>\n",
       "      <td>5</td>\n",
       "      <td>Yes</td>\n",
       "      <td>Yes</td>\n",
       "    </tr>\n",
       "    <tr>\n",
       "      <th>3</th>\n",
       "      <td>18-35</td>\n",
       "      <td>Female</td>\n",
       "      <td>Nigeria</td>\n",
       "      <td>Yes</td>\n",
       "      <td>No</td>\n",
       "      <td>Never</td>\n",
       "      <td>No</td>\n",
       "      <td>3</td>\n",
       "      <td>Delayed delivery, Lack of tracking information...</td>\n",
       "      <td>2</td>\n",
       "      <td>4</td>\n",
       "      <td>Yes</td>\n",
       "      <td>Yes</td>\n",
       "    </tr>\n",
       "    <tr>\n",
       "      <th>4</th>\n",
       "      <td>35-60</td>\n",
       "      <td>Female</td>\n",
       "      <td>Nigeria</td>\n",
       "      <td>Yes</td>\n",
       "      <td>Yes</td>\n",
       "      <td>Multiple times a month</td>\n",
       "      <td>No</td>\n",
       "      <td>4</td>\n",
       "      <td>Communication issues with carrier</td>\n",
       "      <td>3</td>\n",
       "      <td>4</td>\n",
       "      <td>Yes</td>\n",
       "      <td>Yes</td>\n",
       "    </tr>\n",
       "    <tr>\n",
       "      <th>...</th>\n",
       "      <td>...</td>\n",
       "      <td>...</td>\n",
       "      <td>...</td>\n",
       "      <td>...</td>\n",
       "      <td>...</td>\n",
       "      <td>...</td>\n",
       "      <td>...</td>\n",
       "      <td>...</td>\n",
       "      <td>...</td>\n",
       "      <td>...</td>\n",
       "      <td>...</td>\n",
       "      <td>...</td>\n",
       "      <td>...</td>\n",
       "    </tr>\n",
       "    <tr>\n",
       "      <th>171</th>\n",
       "      <td>18-35</td>\n",
       "      <td>Male</td>\n",
       "      <td>Nigeria</td>\n",
       "      <td>No</td>\n",
       "      <td>No</td>\n",
       "      <td>Never</td>\n",
       "      <td>No</td>\n",
       "      <td>5</td>\n",
       "      <td>Limited tracking options</td>\n",
       "      <td>3</td>\n",
       "      <td>1</td>\n",
       "      <td>Yes</td>\n",
       "      <td>Yes</td>\n",
       "    </tr>\n",
       "    <tr>\n",
       "      <th>172</th>\n",
       "      <td>35-60</td>\n",
       "      <td>Female</td>\n",
       "      <td>Nigeria</td>\n",
       "      <td>Yes</td>\n",
       "      <td>No</td>\n",
       "      <td>Rarely (almost never)</td>\n",
       "      <td>No</td>\n",
       "      <td>3</td>\n",
       "      <td>Limited tracking options</td>\n",
       "      <td>4</td>\n",
       "      <td>2</td>\n",
       "      <td>Yes</td>\n",
       "      <td>Yes</td>\n",
       "    </tr>\n",
       "    <tr>\n",
       "      <th>173</th>\n",
       "      <td>18-35</td>\n",
       "      <td>Female</td>\n",
       "      <td>Nigeria</td>\n",
       "      <td>Yes</td>\n",
       "      <td>Yes</td>\n",
       "      <td>Multiple times a month</td>\n",
       "      <td>Yes</td>\n",
       "      <td>3</td>\n",
       "      <td>Lack of tracking information, Communication is...</td>\n",
       "      <td>4</td>\n",
       "      <td>5</td>\n",
       "      <td>Yes</td>\n",
       "      <td>Yes</td>\n",
       "    </tr>\n",
       "    <tr>\n",
       "      <th>174</th>\n",
       "      <td>35-60</td>\n",
       "      <td>Male</td>\n",
       "      <td>Nigeria</td>\n",
       "      <td>Yes</td>\n",
       "      <td>Yes</td>\n",
       "      <td>Multiple times a week</td>\n",
       "      <td>Yes</td>\n",
       "      <td>5</td>\n",
       "      <td>Delayed delivery, Lack of tracking information</td>\n",
       "      <td>3</td>\n",
       "      <td>3</td>\n",
       "      <td>Yes</td>\n",
       "      <td>Neutral</td>\n",
       "    </tr>\n",
       "    <tr>\n",
       "      <th>175</th>\n",
       "      <td>35-60</td>\n",
       "      <td>Male</td>\n",
       "      <td>Nigeria</td>\n",
       "      <td>Yes</td>\n",
       "      <td>Yes</td>\n",
       "      <td>Multiple times a month</td>\n",
       "      <td>No</td>\n",
       "      <td>2</td>\n",
       "      <td>Delayed delivery, Communication issues with ca...</td>\n",
       "      <td>3</td>\n",
       "      <td>4</td>\n",
       "      <td>Yes</td>\n",
       "      <td>Yes</td>\n",
       "    </tr>\n",
       "  </tbody>\n",
       "</table>\n",
       "<p>176 rows × 13 columns</p>\n",
       "</div>"
      ],
      "text/plain": [
       "    Age Range  Gender Nationality Delivery_Service_Use  \\\n",
       "0       18-35    Male     Nigeria                  Yes   \n",
       "1       18-35  Female     Nigeria                  Yes   \n",
       "2       18-35  Female     Nigeria                  Yes   \n",
       "3       18-35  Female     Nigeria                  Yes   \n",
       "4       35-60  Female     Nigeria                  Yes   \n",
       "..        ...     ...         ...                  ...   \n",
       "171     18-35    Male     Nigeria                   No   \n",
       "172     35-60  Female     Nigeria                  Yes   \n",
       "173     18-35  Female     Nigeria                  Yes   \n",
       "174     35-60    Male     Nigeria                  Yes   \n",
       "175     35-60    Male     Nigeria                  Yes   \n",
       "\n",
       "    RealTime_Tracking_Usage Delivery_Service_Frequency On_Time_Delivery  \\\n",
       "0                       Yes      Rarely (almost never)              Yes   \n",
       "1                       Yes      Rarely (almost never)              Yes   \n",
       "2                        No      Rarely (almost never)              Yes   \n",
       "3                        No                      Never               No   \n",
       "4                       Yes     Multiple times a month               No   \n",
       "..                      ...                        ...              ...   \n",
       "171                      No                      Never               No   \n",
       "172                      No      Rarely (almost never)               No   \n",
       "173                     Yes     Multiple times a month              Yes   \n",
       "174                     Yes      Multiple times a week              Yes   \n",
       "175                     Yes     Multiple times a month               No   \n",
       "\n",
       "     Tracking_Ease                                Tracking_Challenges  \\\n",
       "0                3                           Limited tracking options   \n",
       "1                1  Lack of tracking information, Communication is...   \n",
       "2                3  Delayed delivery, Lack of tracking information...   \n",
       "3                3  Delayed delivery, Lack of tracking information...   \n",
       "4                4                  Communication issues with carrier   \n",
       "..             ...                                                ...   \n",
       "171              5                           Limited tracking options   \n",
       "172              3                           Limited tracking options   \n",
       "173              3  Lack of tracking information, Communication is...   \n",
       "174              5     Delayed delivery, Lack of tracking information   \n",
       "175              2  Delayed delivery, Communication issues with ca...   \n",
       "\n",
       "     Satisfaction_Level  RealTime_Update_Importance  \\\n",
       "0                     3                           4   \n",
       "1                     3                           4   \n",
       "2                     2                           5   \n",
       "3                     2                           4   \n",
       "4                     3                           4   \n",
       "..                  ...                         ...   \n",
       "171                   3                           1   \n",
       "172                   4                           2   \n",
       "173                   4                           5   \n",
       "174                   3                           3   \n",
       "175                   3                           4   \n",
       "\n",
       "    Map_Integration_Willingness RealTime_Tracking_Effect  \n",
       "0                           Yes                      Yes  \n",
       "1                           Yes                      Yes  \n",
       "2                           Yes                      Yes  \n",
       "3                           Yes                      Yes  \n",
       "4                           Yes                      Yes  \n",
       "..                          ...                      ...  \n",
       "171                         Yes                      Yes  \n",
       "172                         Yes                      Yes  \n",
       "173                         Yes                      Yes  \n",
       "174                         Yes                  Neutral  \n",
       "175                         Yes                      Yes  \n",
       "\n",
       "[176 rows x 13 columns]"
      ]
     },
     "execution_count": 162,
     "metadata": {},
     "output_type": "execute_result"
    }
   ],
   "source": [
    "\n",
    "new_df"
   ]
  },
  {
   "cell_type": "markdown",
   "id": "bf2560d5",
   "metadata": {},
   "source": [
    "## Tracking Challenges "
   ]
  },
  {
   "cell_type": "code",
   "execution_count": 163,
   "id": "06769f48",
   "metadata": {},
   "outputs": [
    {
     "data": {
      "text/plain": [
       "0                               Limited tracking options\n",
       "1      Lack of tracking information, Communication is...\n",
       "2      Delayed delivery, Lack of tracking information...\n",
       "3      Delayed delivery, Lack of tracking information...\n",
       "4                      Communication issues with carrier\n",
       "                             ...                        \n",
       "171                             Limited tracking options\n",
       "172                             Limited tracking options\n",
       "173    Lack of tracking information, Communication is...\n",
       "174       Delayed delivery, Lack of tracking information\n",
       "175    Delayed delivery, Communication issues with ca...\n",
       "Name: Tracking_Challenges, Length: 176, dtype: object"
      ]
     },
     "execution_count": 163,
     "metadata": {},
     "output_type": "execute_result"
    }
   ],
   "source": [
    "new_df[\"Tracking_Challenges\"]"
   ]
  },
  {
   "cell_type": "code",
   "execution_count": 164,
   "id": "7c6f5111",
   "metadata": {},
   "outputs": [],
   "source": [
    "# Split challenges into separate columns\n",
    "challenges_df = new_df[\"Tracking_Challenges\"].str.split(\", \", expand=True)\n",
    "\n",
    "# Rename the columns\n",
    "challenges_df.columns = [\"Challenge_{}\".format(i+1) for i in range(challenges_df.shape[1])]\n",
    "\n",
    "# Concatenate challenges DataFrame with original DataFrame\n",
    "new_df = pd.concat([new_df, challenges_df], axis=1)\n",
    "\n",
    "# Drop the original \"Tracking_Challenges\"\n",
    "new_df.drop(columns=[\"Tracking_Challenges\"], inplace=True)\n"
   ]
  },
  {
   "cell_type": "code",
   "execution_count": 165,
   "id": "fb4375a0",
   "metadata": {},
   "outputs": [],
   "source": [
    "# cleaning the texts \n",
    "\n",
    "new_value = {\"I do not receive notifications immediately my package reaches it's destination\": \"Communication Issues\", \"Sending to another state instead of my state\":\"Package Misplacement\",\"None that I can remember \" : \"No Challenge\", \"None \" : \"No Challenge\", \"My packages were always delivered in good time.\":\"No Challenge\", \"It wasn't difficult tracking \":\"No Challenge\",\"Package misplacement / loss\":\"Package Misplacement\" , \"Delayed delivery\":\"Delay\", \"Communication issues with carrier\":\"Communication Issues\", \"Lack of tracking information\":\"No Tracking Information\", \"Limited tracking options\":\"Limited Tracking Options\"}\n",
    "\n",
    "new_df[\"Challenge_1\"] = new_df[\"Challenge_1\"].replace(new_value)\n",
    "new_df[\"Challenge_2\"] = new_df[\"Challenge_2\"].replace(new_value)\n",
    "new_df[\"Challenge_3\"] = new_df[\"Challenge_3\"].replace(new_value)\n",
    "new_df[\"Challenge_4\"] = new_df[\"Challenge_4\"].replace(new_value)\n",
    "new_df[\"Challenge_5\"] = new_df[\"Challenge_5\"].replace(new_value)"
   ]
  },
  {
   "cell_type": "code",
   "execution_count": 166,
   "id": "c5959c5b",
   "metadata": {},
   "outputs": [
    {
     "data": {
      "text/html": [
       "<div>\n",
       "<style scoped>\n",
       "    .dataframe tbody tr th:only-of-type {\n",
       "        vertical-align: middle;\n",
       "    }\n",
       "\n",
       "    .dataframe tbody tr th {\n",
       "        vertical-align: top;\n",
       "    }\n",
       "\n",
       "    .dataframe thead th {\n",
       "        text-align: right;\n",
       "    }\n",
       "</style>\n",
       "<table border=\"1\" class=\"dataframe\">\n",
       "  <thead>\n",
       "    <tr style=\"text-align: right;\">\n",
       "      <th></th>\n",
       "      <th>Challenge_1</th>\n",
       "      <th>Challenge_2</th>\n",
       "      <th>Challenge_3</th>\n",
       "      <th>Challenge_4</th>\n",
       "      <th>Challenge_5</th>\n",
       "    </tr>\n",
       "  </thead>\n",
       "  <tbody>\n",
       "    <tr>\n",
       "      <th>0</th>\n",
       "      <td>Limited Tracking Options</td>\n",
       "      <td>None</td>\n",
       "      <td>None</td>\n",
       "      <td>None</td>\n",
       "      <td>None</td>\n",
       "    </tr>\n",
       "    <tr>\n",
       "      <th>1</th>\n",
       "      <td>No Tracking Information</td>\n",
       "      <td>Communication Issues</td>\n",
       "      <td>None</td>\n",
       "      <td>None</td>\n",
       "      <td>None</td>\n",
       "    </tr>\n",
       "    <tr>\n",
       "      <th>2</th>\n",
       "      <td>Delay</td>\n",
       "      <td>No Tracking Information</td>\n",
       "      <td>Communication Issues</td>\n",
       "      <td>Limited Tracking Options</td>\n",
       "      <td>None</td>\n",
       "    </tr>\n",
       "    <tr>\n",
       "      <th>3</th>\n",
       "      <td>Delay</td>\n",
       "      <td>No Tracking Information</td>\n",
       "      <td>Communication Issues</td>\n",
       "      <td>Limited Tracking Options</td>\n",
       "      <td>None</td>\n",
       "    </tr>\n",
       "    <tr>\n",
       "      <th>4</th>\n",
       "      <td>Communication Issues</td>\n",
       "      <td>None</td>\n",
       "      <td>None</td>\n",
       "      <td>None</td>\n",
       "      <td>None</td>\n",
       "    </tr>\n",
       "    <tr>\n",
       "      <th>...</th>\n",
       "      <td>...</td>\n",
       "      <td>...</td>\n",
       "      <td>...</td>\n",
       "      <td>...</td>\n",
       "      <td>...</td>\n",
       "    </tr>\n",
       "    <tr>\n",
       "      <th>171</th>\n",
       "      <td>Limited Tracking Options</td>\n",
       "      <td>None</td>\n",
       "      <td>None</td>\n",
       "      <td>None</td>\n",
       "      <td>None</td>\n",
       "    </tr>\n",
       "    <tr>\n",
       "      <th>172</th>\n",
       "      <td>Limited Tracking Options</td>\n",
       "      <td>None</td>\n",
       "      <td>None</td>\n",
       "      <td>None</td>\n",
       "      <td>None</td>\n",
       "    </tr>\n",
       "    <tr>\n",
       "      <th>173</th>\n",
       "      <td>No Tracking Information</td>\n",
       "      <td>Communication Issues</td>\n",
       "      <td>None</td>\n",
       "      <td>None</td>\n",
       "      <td>None</td>\n",
       "    </tr>\n",
       "    <tr>\n",
       "      <th>174</th>\n",
       "      <td>Delay</td>\n",
       "      <td>No Tracking Information</td>\n",
       "      <td>None</td>\n",
       "      <td>None</td>\n",
       "      <td>None</td>\n",
       "    </tr>\n",
       "    <tr>\n",
       "      <th>175</th>\n",
       "      <td>Delay</td>\n",
       "      <td>Communication Issues</td>\n",
       "      <td>Limited Tracking Options</td>\n",
       "      <td>None</td>\n",
       "      <td>None</td>\n",
       "    </tr>\n",
       "  </tbody>\n",
       "</table>\n",
       "<p>176 rows × 5 columns</p>\n",
       "</div>"
      ],
      "text/plain": [
       "                  Challenge_1              Challenge_2  \\\n",
       "0    Limited Tracking Options                     None   \n",
       "1     No Tracking Information     Communication Issues   \n",
       "2                       Delay  No Tracking Information   \n",
       "3                       Delay  No Tracking Information   \n",
       "4        Communication Issues                     None   \n",
       "..                        ...                      ...   \n",
       "171  Limited Tracking Options                     None   \n",
       "172  Limited Tracking Options                     None   \n",
       "173   No Tracking Information     Communication Issues   \n",
       "174                     Delay  No Tracking Information   \n",
       "175                     Delay     Communication Issues   \n",
       "\n",
       "                  Challenge_3               Challenge_4 Challenge_5  \n",
       "0                        None                      None        None  \n",
       "1                        None                      None        None  \n",
       "2        Communication Issues  Limited Tracking Options        None  \n",
       "3        Communication Issues  Limited Tracking Options        None  \n",
       "4                        None                      None        None  \n",
       "..                        ...                       ...         ...  \n",
       "171                      None                      None        None  \n",
       "172                      None                      None        None  \n",
       "173                      None                      None        None  \n",
       "174                      None                      None        None  \n",
       "175  Limited Tracking Options                      None        None  \n",
       "\n",
       "[176 rows x 5 columns]"
      ]
     },
     "execution_count": 166,
     "metadata": {},
     "output_type": "execute_result"
    }
   ],
   "source": [
    "new_df[[\"Challenge_1\", \"Challenge_2\", \"Challenge_3\", \"Challenge_4\", \"Challenge_5\"]]"
   ]
  },
  {
   "cell_type": "code",
   "execution_count": 167,
   "id": "195b9a91",
   "metadata": {},
   "outputs": [
    {
     "data": {
      "text/plain": [
       "0"
      ]
     },
     "execution_count": 167,
     "metadata": {},
     "output_type": "execute_result"
    }
   ],
   "source": [
    "new_df[\"Challenge_1\"].isnull().sum()"
   ]
  },
  {
   "cell_type": "code",
   "execution_count": 168,
   "id": "2d06e3d9",
   "metadata": {},
   "outputs": [
    {
     "data": {
      "text/plain": [
       "85"
      ]
     },
     "execution_count": 168,
     "metadata": {},
     "output_type": "execute_result"
    }
   ],
   "source": [
    "new_df[\"Challenge_2\"].isnull().sum()"
   ]
  },
  {
   "cell_type": "code",
   "execution_count": 169,
   "id": "f3bb0b16",
   "metadata": {},
   "outputs": [
    {
     "data": {
      "text/plain": [
       "125"
      ]
     },
     "execution_count": 169,
     "metadata": {},
     "output_type": "execute_result"
    }
   ],
   "source": [
    "new_df[\"Challenge_3\"].isnull().sum()"
   ]
  },
  {
   "cell_type": "code",
   "execution_count": 170,
   "id": "f351c84d",
   "metadata": {},
   "outputs": [
    {
     "data": {
      "text/plain": [
       "154"
      ]
     },
     "execution_count": 170,
     "metadata": {},
     "output_type": "execute_result"
    }
   ],
   "source": [
    "new_df[\"Challenge_4\"].isnull().sum()"
   ]
  },
  {
   "cell_type": "code",
   "execution_count": 171,
   "id": "52e6a2d4",
   "metadata": {},
   "outputs": [
    {
     "data": {
      "text/plain": [
       "172"
      ]
     },
     "execution_count": 171,
     "metadata": {},
     "output_type": "execute_result"
    }
   ],
   "source": [
    "new_df[\"Challenge_5\"].isnull().sum()"
   ]
  },
  {
   "cell_type": "code",
   "execution_count": 172,
   "id": "1c1b842b",
   "metadata": {},
   "outputs": [],
   "source": [
    "# since challenge 2-5 are mostly null, drop the columns\n",
    "\n",
    "clean_df = new_df.drop([\"Challenge_2\", \"Challenge_3\", \"Challenge_4\", \"Challenge_5\" ], axis =1 )"
   ]
  },
  {
   "cell_type": "code",
   "execution_count": 173,
   "id": "9cb07a9e",
   "metadata": {},
   "outputs": [],
   "source": [
    "# rename the column\n",
    "\n",
    "clean_df.rename(columns = {\"Challenge_1\" : \"Challenges\"}, inplace = True)"
   ]
  },
  {
   "cell_type": "code",
   "execution_count": null,
   "id": "cee0fea5",
   "metadata": {},
   "outputs": [],
   "source": []
  },
  {
   "cell_type": "markdown",
   "id": "dba8ebcb",
   "metadata": {},
   "source": [
    "## CLEAN DATASET"
   ]
  },
  {
   "cell_type": "code",
   "execution_count": 174,
   "id": "a8d7a3d9",
   "metadata": {},
   "outputs": [
    {
     "data": {
      "text/html": [
       "<div>\n",
       "<style scoped>\n",
       "    .dataframe tbody tr th:only-of-type {\n",
       "        vertical-align: middle;\n",
       "    }\n",
       "\n",
       "    .dataframe tbody tr th {\n",
       "        vertical-align: top;\n",
       "    }\n",
       "\n",
       "    .dataframe thead th {\n",
       "        text-align: right;\n",
       "    }\n",
       "</style>\n",
       "<table border=\"1\" class=\"dataframe\">\n",
       "  <thead>\n",
       "    <tr style=\"text-align: right;\">\n",
       "      <th></th>\n",
       "      <th>Age Range</th>\n",
       "      <th>Gender</th>\n",
       "      <th>Nationality</th>\n",
       "      <th>Delivery_Service_Use</th>\n",
       "      <th>RealTime_Tracking_Usage</th>\n",
       "      <th>Delivery_Service_Frequency</th>\n",
       "      <th>On_Time_Delivery</th>\n",
       "      <th>Tracking_Ease</th>\n",
       "      <th>Satisfaction_Level</th>\n",
       "      <th>RealTime_Update_Importance</th>\n",
       "      <th>Map_Integration_Willingness</th>\n",
       "      <th>RealTime_Tracking_Effect</th>\n",
       "      <th>Challenges</th>\n",
       "    </tr>\n",
       "  </thead>\n",
       "  <tbody>\n",
       "    <tr>\n",
       "      <th>0</th>\n",
       "      <td>18-35</td>\n",
       "      <td>Male</td>\n",
       "      <td>Nigeria</td>\n",
       "      <td>Yes</td>\n",
       "      <td>Yes</td>\n",
       "      <td>Rarely (almost never)</td>\n",
       "      <td>Yes</td>\n",
       "      <td>3</td>\n",
       "      <td>3</td>\n",
       "      <td>4</td>\n",
       "      <td>Yes</td>\n",
       "      <td>Yes</td>\n",
       "      <td>Limited Tracking Options</td>\n",
       "    </tr>\n",
       "    <tr>\n",
       "      <th>1</th>\n",
       "      <td>18-35</td>\n",
       "      <td>Female</td>\n",
       "      <td>Nigeria</td>\n",
       "      <td>Yes</td>\n",
       "      <td>Yes</td>\n",
       "      <td>Rarely (almost never)</td>\n",
       "      <td>Yes</td>\n",
       "      <td>1</td>\n",
       "      <td>3</td>\n",
       "      <td>4</td>\n",
       "      <td>Yes</td>\n",
       "      <td>Yes</td>\n",
       "      <td>No Tracking Information</td>\n",
       "    </tr>\n",
       "    <tr>\n",
       "      <th>2</th>\n",
       "      <td>18-35</td>\n",
       "      <td>Female</td>\n",
       "      <td>Nigeria</td>\n",
       "      <td>Yes</td>\n",
       "      <td>No</td>\n",
       "      <td>Rarely (almost never)</td>\n",
       "      <td>Yes</td>\n",
       "      <td>3</td>\n",
       "      <td>2</td>\n",
       "      <td>5</td>\n",
       "      <td>Yes</td>\n",
       "      <td>Yes</td>\n",
       "      <td>Delay</td>\n",
       "    </tr>\n",
       "    <tr>\n",
       "      <th>3</th>\n",
       "      <td>18-35</td>\n",
       "      <td>Female</td>\n",
       "      <td>Nigeria</td>\n",
       "      <td>Yes</td>\n",
       "      <td>No</td>\n",
       "      <td>Never</td>\n",
       "      <td>No</td>\n",
       "      <td>3</td>\n",
       "      <td>2</td>\n",
       "      <td>4</td>\n",
       "      <td>Yes</td>\n",
       "      <td>Yes</td>\n",
       "      <td>Delay</td>\n",
       "    </tr>\n",
       "    <tr>\n",
       "      <th>4</th>\n",
       "      <td>35-60</td>\n",
       "      <td>Female</td>\n",
       "      <td>Nigeria</td>\n",
       "      <td>Yes</td>\n",
       "      <td>Yes</td>\n",
       "      <td>Multiple times a month</td>\n",
       "      <td>No</td>\n",
       "      <td>4</td>\n",
       "      <td>3</td>\n",
       "      <td>4</td>\n",
       "      <td>Yes</td>\n",
       "      <td>Yes</td>\n",
       "      <td>Communication Issues</td>\n",
       "    </tr>\n",
       "    <tr>\n",
       "      <th>...</th>\n",
       "      <td>...</td>\n",
       "      <td>...</td>\n",
       "      <td>...</td>\n",
       "      <td>...</td>\n",
       "      <td>...</td>\n",
       "      <td>...</td>\n",
       "      <td>...</td>\n",
       "      <td>...</td>\n",
       "      <td>...</td>\n",
       "      <td>...</td>\n",
       "      <td>...</td>\n",
       "      <td>...</td>\n",
       "      <td>...</td>\n",
       "    </tr>\n",
       "    <tr>\n",
       "      <th>171</th>\n",
       "      <td>18-35</td>\n",
       "      <td>Male</td>\n",
       "      <td>Nigeria</td>\n",
       "      <td>No</td>\n",
       "      <td>No</td>\n",
       "      <td>Never</td>\n",
       "      <td>No</td>\n",
       "      <td>5</td>\n",
       "      <td>3</td>\n",
       "      <td>1</td>\n",
       "      <td>Yes</td>\n",
       "      <td>Yes</td>\n",
       "      <td>Limited Tracking Options</td>\n",
       "    </tr>\n",
       "    <tr>\n",
       "      <th>172</th>\n",
       "      <td>35-60</td>\n",
       "      <td>Female</td>\n",
       "      <td>Nigeria</td>\n",
       "      <td>Yes</td>\n",
       "      <td>No</td>\n",
       "      <td>Rarely (almost never)</td>\n",
       "      <td>No</td>\n",
       "      <td>3</td>\n",
       "      <td>4</td>\n",
       "      <td>2</td>\n",
       "      <td>Yes</td>\n",
       "      <td>Yes</td>\n",
       "      <td>Limited Tracking Options</td>\n",
       "    </tr>\n",
       "    <tr>\n",
       "      <th>173</th>\n",
       "      <td>18-35</td>\n",
       "      <td>Female</td>\n",
       "      <td>Nigeria</td>\n",
       "      <td>Yes</td>\n",
       "      <td>Yes</td>\n",
       "      <td>Multiple times a month</td>\n",
       "      <td>Yes</td>\n",
       "      <td>3</td>\n",
       "      <td>4</td>\n",
       "      <td>5</td>\n",
       "      <td>Yes</td>\n",
       "      <td>Yes</td>\n",
       "      <td>No Tracking Information</td>\n",
       "    </tr>\n",
       "    <tr>\n",
       "      <th>174</th>\n",
       "      <td>35-60</td>\n",
       "      <td>Male</td>\n",
       "      <td>Nigeria</td>\n",
       "      <td>Yes</td>\n",
       "      <td>Yes</td>\n",
       "      <td>Multiple times a week</td>\n",
       "      <td>Yes</td>\n",
       "      <td>5</td>\n",
       "      <td>3</td>\n",
       "      <td>3</td>\n",
       "      <td>Yes</td>\n",
       "      <td>Neutral</td>\n",
       "      <td>Delay</td>\n",
       "    </tr>\n",
       "    <tr>\n",
       "      <th>175</th>\n",
       "      <td>35-60</td>\n",
       "      <td>Male</td>\n",
       "      <td>Nigeria</td>\n",
       "      <td>Yes</td>\n",
       "      <td>Yes</td>\n",
       "      <td>Multiple times a month</td>\n",
       "      <td>No</td>\n",
       "      <td>2</td>\n",
       "      <td>3</td>\n",
       "      <td>4</td>\n",
       "      <td>Yes</td>\n",
       "      <td>Yes</td>\n",
       "      <td>Delay</td>\n",
       "    </tr>\n",
       "  </tbody>\n",
       "</table>\n",
       "<p>176 rows × 13 columns</p>\n",
       "</div>"
      ],
      "text/plain": [
       "    Age Range  Gender Nationality Delivery_Service_Use  \\\n",
       "0       18-35    Male     Nigeria                  Yes   \n",
       "1       18-35  Female     Nigeria                  Yes   \n",
       "2       18-35  Female     Nigeria                  Yes   \n",
       "3       18-35  Female     Nigeria                  Yes   \n",
       "4       35-60  Female     Nigeria                  Yes   \n",
       "..        ...     ...         ...                  ...   \n",
       "171     18-35    Male     Nigeria                   No   \n",
       "172     35-60  Female     Nigeria                  Yes   \n",
       "173     18-35  Female     Nigeria                  Yes   \n",
       "174     35-60    Male     Nigeria                  Yes   \n",
       "175     35-60    Male     Nigeria                  Yes   \n",
       "\n",
       "    RealTime_Tracking_Usage Delivery_Service_Frequency On_Time_Delivery  \\\n",
       "0                       Yes      Rarely (almost never)              Yes   \n",
       "1                       Yes      Rarely (almost never)              Yes   \n",
       "2                        No      Rarely (almost never)              Yes   \n",
       "3                        No                      Never               No   \n",
       "4                       Yes     Multiple times a month               No   \n",
       "..                      ...                        ...              ...   \n",
       "171                      No                      Never               No   \n",
       "172                      No      Rarely (almost never)               No   \n",
       "173                     Yes     Multiple times a month              Yes   \n",
       "174                     Yes      Multiple times a week              Yes   \n",
       "175                     Yes     Multiple times a month               No   \n",
       "\n",
       "     Tracking_Ease  Satisfaction_Level  RealTime_Update_Importance  \\\n",
       "0                3                   3                           4   \n",
       "1                1                   3                           4   \n",
       "2                3                   2                           5   \n",
       "3                3                   2                           4   \n",
       "4                4                   3                           4   \n",
       "..             ...                 ...                         ...   \n",
       "171              5                   3                           1   \n",
       "172              3                   4                           2   \n",
       "173              3                   4                           5   \n",
       "174              5                   3                           3   \n",
       "175              2                   3                           4   \n",
       "\n",
       "    Map_Integration_Willingness RealTime_Tracking_Effect  \\\n",
       "0                           Yes                      Yes   \n",
       "1                           Yes                      Yes   \n",
       "2                           Yes                      Yes   \n",
       "3                           Yes                      Yes   \n",
       "4                           Yes                      Yes   \n",
       "..                          ...                      ...   \n",
       "171                         Yes                      Yes   \n",
       "172                         Yes                      Yes   \n",
       "173                         Yes                      Yes   \n",
       "174                         Yes                  Neutral   \n",
       "175                         Yes                      Yes   \n",
       "\n",
       "                   Challenges  \n",
       "0    Limited Tracking Options  \n",
       "1     No Tracking Information  \n",
       "2                       Delay  \n",
       "3                       Delay  \n",
       "4        Communication Issues  \n",
       "..                        ...  \n",
       "171  Limited Tracking Options  \n",
       "172  Limited Tracking Options  \n",
       "173   No Tracking Information  \n",
       "174                     Delay  \n",
       "175                     Delay  \n",
       "\n",
       "[176 rows x 13 columns]"
      ]
     },
     "execution_count": 174,
     "metadata": {},
     "output_type": "execute_result"
    }
   ],
   "source": [
    "clean_df"
   ]
  },
  {
   "cell_type": "code",
   "execution_count": null,
   "id": "2ae58656",
   "metadata": {},
   "outputs": [],
   "source": []
  },
  {
   "cell_type": "markdown",
   "id": "485d6c5f",
   "metadata": {},
   "source": [
    "## EXPLORATORY DATA ANALYSIS"
   ]
  },
  {
   "cell_type": "markdown",
   "id": "71511926",
   "metadata": {},
   "source": [
    "1. What is the gender distribution "
   ]
  },
  {
   "cell_type": "code",
   "execution_count": 175,
   "id": "52b30e38",
   "metadata": {},
   "outputs": [
    {
     "data": {
      "text/plain": [
       "Gender\n",
       "Female              99\n",
       "Male                76\n",
       "Others (Specify)     1\n",
       "Name: count, dtype: int64"
      ]
     },
     "execution_count": 175,
     "metadata": {},
     "output_type": "execute_result"
    }
   ],
   "source": [
    "# to get the counts of gender\n",
    "\n",
    "Gender = clean_df[\"Gender\"].value_counts()\n",
    "\n",
    "Gender"
   ]
  },
  {
   "cell_type": "code",
   "execution_count": 176,
   "id": "279c413a",
   "metadata": {},
   "outputs": [
    {
     "data": {
      "image/png": "[encoded data removed]",
      "text/plain": [
       "<Figure size 640x480 with 1 Axes>"
      ]
     },
     "metadata": {},
     "output_type": "display_data"
    }
   ],
   "source": [
    "Gender.plot (kind = \"bar\", color = \"#024089\")\n",
    "\n",
    "# labeling the chart\n",
    "plt.xlabel (\"Gender\")\n",
    "plt.ylabel (\"Count\")\n",
    "plt.title (\"Distribution of Gender\")\n",
    "\n",
    "# to show the chart\n",
    "plt.show()"
   ]
  },
  {
   "cell_type": "markdown",
   "id": "d28e00be",
   "metadata": {},
   "source": [
    "Insight\n",
    "\n",
    "- Female has a count of 99, thereby making female our highest respondent"
   ]
  },
  {
   "cell_type": "markdown",
   "id": "0ec31126",
   "metadata": {},
   "source": [
    "2. What is the age distribution"
   ]
  },
  {
   "cell_type": "code",
   "execution_count": 177,
   "id": "a396f348",
   "metadata": {},
   "outputs": [
    {
     "data": {
      "text/plain": [
       "Age Range\n",
       "18-35                128\n",
       "35-60                 45\n",
       "Under 18years old      2\n",
       "65+                    1\n",
       "Name: count, dtype: int64"
      ]
     },
     "execution_count": 177,
     "metadata": {},
     "output_type": "execute_result"
    }
   ],
   "source": [
    "Age = clean_df[\"Age Range\"].value_counts()\n",
    "\n",
    "Age"
   ]
  },
  {
   "cell_type": "code",
   "execution_count": 178,
   "id": "b3e0b31e",
   "metadata": {},
   "outputs": [
    {
     "data": {
      "image/png": "[encoded data removed]",
      "text/plain": [
       "<Figure size 640x480 with 1 Axes>"
      ]
     },
     "metadata": {},
     "output_type": "display_data"
    }
   ],
   "source": [
    "clean_df[\"Age Range\"].value_counts().plot(kind = \"bar\", color = \"#024089\")\n",
    "\n",
    "plt.xlabel (\"Age Range\")\n",
    "plt.ylabel (\"Count\")\n",
    "plt.title (\"Distribution of Age Range\")\n",
    "\n",
    "plt.show()"
   ]
  },
  {
   "cell_type": "markdown",
   "id": "67a18d87",
   "metadata": {},
   "source": [
    "Insight \n",
    "\n",
    "- Most respondents highest age ranges from 18 - 35"
   ]
  },
  {
   "cell_type": "markdown",
   "id": "888d17cb",
   "metadata": {},
   "source": [
    "3. What is the average age of respondents"
   ]
  },
  {
   "cell_type": "code",
   "execution_count": 179,
   "id": "03a67038",
   "metadata": {},
   "outputs": [
    {
     "name": "stdout",
     "output_type": "stream",
     "text": [
      "Mean age : 32\n"
     ]
    }
   ],
   "source": [
    "# we get the midpoint\n",
    "\n",
    "midpoints = [26.5, 47.5, 9, 65]\n",
    "\n",
    "# Calculate the total count\n",
    "total_count = sum(Age)\n",
    "\n",
    "# Calculate the sum of products of midpoints and counts\n",
    "sum_of_products = sum(midpoint * Age for midpoint, Age in zip(midpoints, Age))\n",
    "\n",
    "# Calculate the mean\n",
    "mean = round (sum_of_products / total_count)\n",
    "\n",
    "print(\"Mean age :\", mean)"
   ]
  },
  {
   "cell_type": "markdown",
   "id": "0b9b471c",
   "metadata": {},
   "source": [
    "The average age of our respondents is 32 years. "
   ]
  },
  {
   "cell_type": "markdown",
   "id": "b079f426",
   "metadata": {},
   "source": [
    "4. Distribution of Nationality"
   ]
  },
  {
   "cell_type": "code",
   "execution_count": 180,
   "id": "7e13cbaa",
   "metadata": {},
   "outputs": [],
   "source": [
    "Country = clean_df[\"Nationality\"].value_counts()\n"
   ]
  },
  {
   "cell_type": "code",
   "execution_count": 181,
   "id": "3aa8a20c",
   "metadata": {},
   "outputs": [
    {
     "data": {
      "text/plain": [
       "Nationality\n",
       "USA                 1\n",
       "Romania             1\n",
       "Australia           2\n",
       "Ghana               2\n",
       "Canada              2\n",
       "Kenya               5\n",
       "United Kingdom      9\n",
       "Nigeria           154\n",
       "Name: count, dtype: int64"
      ]
     },
     "execution_count": 181,
     "metadata": {},
     "output_type": "execute_result"
    }
   ],
   "source": [
    "country_sorted = Country.sort_values(ascending = True)\n",
    "\n",
    "country_sorted"
   ]
  },
  {
   "cell_type": "code",
   "execution_count": 182,
   "id": "980048d8",
   "metadata": {},
   "outputs": [
    {
     "data": {
      "image/png": "[encoded data removed]",
      "text/plain": [
       "<Figure size 640x480 with 1 Axes>"
      ]
     },
     "metadata": {},
     "output_type": "display_data"
    }
   ],
   "source": [
    "country_sorted.plot(kind = \"barh\",  color = \"#024089\")\n",
    "\n",
    "plt.ylabel (\"Nationality\")\n",
    "plt.xlabel (\"Count\")\n",
    "plt.title (\"Distribution of Nationalities\")\n",
    "\n",
    "plt.show()"
   ]
  },
  {
   "cell_type": "markdown",
   "id": "e2bf3cf7",
   "metadata": {},
   "source": [
    "Insight\n",
    "\n",
    "- Our respondents are mostly from Nigeria"
   ]
  },
  {
   "cell_type": "markdown",
   "id": "552a278e",
   "metadata": {},
   "source": [
    "5. What proportion of individuals use delivery services"
   ]
  },
  {
   "cell_type": "code",
   "execution_count": 183,
   "id": "02aa2649",
   "metadata": {},
   "outputs": [
    {
     "data": {
      "image/png": "[encoded data removed]",
      "text/plain": [
       "<Figure size 640x480 with 1 Axes>"
      ]
     },
     "metadata": {},
     "output_type": "display_data"
    },
    {
     "data": {
      "image/png": "[encoded data removed]",
      "text/plain": [
       "<Figure size 640x480 with 1 Axes>"
      ]
     },
     "metadata": {},
     "output_type": "display_data"
    },
    {
     "data": {
      "image/png": "[encoded data removed]",
      "text/plain": [
       "<Figure size 640x480 with 1 Axes>"
      ]
     },
     "metadata": {},
     "output_type": "display_data"
    }
   ],
   "source": [
    "# get the delivery usage across demography\n",
    "# Iterate over the columns \"Age Range\", \"Gender\", and \"Nationality\"\n",
    "for i, col in enumerate([\"Age Range\", \"Gender\", \"Nationality\"]):\n",
    "    plt.figure(i)\n",
    "    sns.countplot(data=clean_df, x=col, hue=\"Delivery_Service_Use\", palette = [\"#004DA9\", \"#FDA300\"])\n",
    "    plt.title(f\"Delivery Usage Count by {col}\")\n",
    "    plt.xlabel(col)\n",
    "    plt.ylabel(\"Count\")\n",
    "    plt.legend(title=\"Delivery Usage\")\n",
    "    plt.xticks (rotation = 45)\n",
    "    plt.show()\n"
   ]
  },
  {
   "cell_type": "markdown",
   "id": "a884b578",
   "metadata": {},
   "source": [
    "Insight\n",
    "\n",
    "- On Age Range\n",
    "   - about 115 of age 18 - 35 make use of delivery service\n",
    "   - about 40 of age 36 - 60 make use of delivery service\n",
    "\n",
    "- On Gender \n",
    "   - approximately 70 male respondent make use of delivery service\n",
    "   - over 90 female respondnet make use of delivery service"
   ]
  },
  {
   "cell_type": "code",
   "execution_count": 184,
   "id": "67c0a13e",
   "metadata": {},
   "outputs": [
    {
     "data": {
      "image/png": "[encoded data removed]",
      "text/plain": [
       "<Figure size 640x480 with 1 Axes>"
      ]
     },
     "metadata": {},
     "output_type": "display_data"
    },
    {
     "data": {
      "image/png": "[encoded data removed]",
      "text/plain": [
       "<Figure size 640x480 with 1 Axes>"
      ]
     },
     "metadata": {},
     "output_type": "display_data"
    },
    {
     "data": {
      "image/png": "[encoded data removed]",
      "text/plain": [
       "<Figure size 640x480 with 1 Axes>"
      ]
     },
     "metadata": {},
     "output_type": "display_data"
    }
   ],
   "source": [
    "# get the real time usage across demography\n",
    "# Iterate over the columns \"Age Range\", \"Gender\", and \"Nationality\"\n",
    "for i, col in enumerate([\"Age Range\", \"Gender\", \"Nationality\"]):\n",
    "    plt.figure(i)\n",
    "    sns.countplot(data=clean_df, x=col, hue=\"RealTime_Tracking_Usage\", palette = [\"#004DA9\", \"#FDA300\"])\n",
    "    plt.title(f\"Realtime tracking Frequency Count by {col}\")\n",
    "    plt.xlabel(col)\n",
    "    plt.ylabel(\"Count\")\n",
    "    plt.legend(title=\"Realtime tracking Frequency\")\n",
    "    plt.show()\n"
   ]
  },
  {
   "cell_type": "markdown",
   "id": "ab34ee59",
   "metadata": {},
   "source": [
    "Insight\n",
    "\n",
    "- On Age Range\n",
    "   - For age 18 - 35, the number of people who uses the feature are about 77, while those who do not use are about 50. this tells us there is still a lack of the feature in the market because the difference is not much. \n",
    "   - same can be said for ages 36 - 60 \n",
    "   \n"
   ]
  },
  {
   "cell_type": "markdown",
   "id": "0341c4dc",
   "metadata": {},
   "source": [
    "6. Do respondents who use delivery services also tend to use real-time tracking features more often?"
   ]
  },
  {
   "cell_type": "code",
   "execution_count": 185,
   "id": "cffc1b5a",
   "metadata": {},
   "outputs": [
    {
     "data": {
      "image/png": "[encoded data removed]",
      "text/plain": [
       "<Figure size 640x480 with 2 Axes>"
      ]
     },
     "metadata": {},
     "output_type": "display_data"
    }
   ],
   "source": [
    "# Create a contingency table\n",
    "contingency_table = pd.crosstab(clean_df['Delivery_Service_Use'], clean_df['RealTime_Tracking_Usage'])\n",
    "\n",
    "# Visualize the contingency table using a heatmap\n",
    "sns.heatmap(contingency_table, annot=True, cmap='Blues', fmt='g')\n",
    "plt.xlabel('Real-Time Tracking Usage')\n",
    "plt.ylabel('Delivery Service Use')\n",
    "plt.title('Relationship between Delivery Service Use and Real-Time Tracking Usage')\n",
    "plt.show()\n"
   ]
  },
  {
   "cell_type": "markdown",
   "id": "652967d7",
   "metadata": {},
   "source": [
    "7. Checking if there is a correlation between Delivery Service Use and RealTime Tracking Use\n",
    "\n",
    "- We use the Cramer's V statistic, which is a measure of association for nominal (categorical) variables. \n",
    "\n",
    "- 0 indicates no association between the variables.\n",
    "\n",
    "- 1 indicates a perfect association between the variables."
   ]
  },
  {
   "cell_type": "code",
   "execution_count": 186,
   "id": "3e55cafd",
   "metadata": {},
   "outputs": [
    {
     "name": "stdout",
     "output_type": "stream",
     "text": [
      "Cramer's V correlation coefficient: 0.30714168624200694\n"
     ]
    }
   ],
   "source": [
    "import numpy as np\n",
    "from scipy import stats\n",
    "\n",
    "def cramers_v(x, y):\n",
    "    confusion_matrix = pd.crosstab(x, y)\n",
    "    chi2 = stats.chi2_contingency(confusion_matrix)[0]\n",
    "    n = confusion_matrix.sum().sum()\n",
    "    phi2 = chi2 / n\n",
    "    r, k = confusion_matrix.shape\n",
    "    phi2corr = max(0, phi2 - ((k-1)*(r-1)) / (n-1))\n",
    "    rcorr = r - ((r-1)**2) / (n-1)\n",
    "    kcorr = k - ((k-1)**2) / (n-1)\n",
    "    return np.sqrt(phi2corr / min((kcorr-1), (rcorr-1)))\n",
    "\n",
    "# Assuming 'Delivery_Service_Use' and 'RealTime_Tracking_Usage' are the columns of interest\n",
    "# and they contain 'Yes' or 'No' values\n",
    "correlation = cramers_v(clean_df[\"Delivery_Service_Use\"], clean_df['RealTime_Tracking_Usage'])\n",
    "print(\"Cramer's V correlation coefficient:\", correlation)\n"
   ]
  },
  {
   "cell_type": "markdown",
   "id": "9463f2ab",
   "metadata": {},
   "source": [
    "## INSIGHT \n",
    "\n",
    "- Cramer's V value of approximately 0.31 means there's a moderate degree of association between the two categorical variables being studied. \n",
    "\n",
    "- It suggests a tendency for respondents who use delivery service to also be interested in real time tracking feature. \n",
    "\n",
    "- So respondents who uses delivery service are more likely to use services that offer real time tracking capabilities. "
   ]
  },
  {
   "cell_type": "markdown",
   "id": "91b71fe2",
   "metadata": {},
   "source": [
    "8. How often do respondent make use of delivery service"
   ]
  },
  {
   "cell_type": "code",
   "execution_count": 187,
   "id": "afe4f410",
   "metadata": {},
   "outputs": [],
   "source": [
    "frequency = clean_df[\"Delivery_Service_Frequency\"].value_counts()"
   ]
  },
  {
   "cell_type": "code",
   "execution_count": 188,
   "id": "45143f67",
   "metadata": {},
   "outputs": [
    {
     "data": {
      "text/plain": [
       "Delivery_Service_Frequency\n",
       "Once a week               11\n",
       "Multiple times a week     13\n",
       "Never                     19\n",
       "Multiple times a month    49\n",
       "Rarely (almost never)     84\n",
       "Name: count, dtype: int64"
      ]
     },
     "execution_count": 188,
     "metadata": {},
     "output_type": "execute_result"
    }
   ],
   "source": [
    "freq_sorted = frequency.sort_values(ascending = True)\n",
    "\n",
    "freq_sorted"
   ]
  },
  {
   "cell_type": "code",
   "execution_count": 189,
   "id": "71eb098a",
   "metadata": {},
   "outputs": [
    {
     "data": {
      "image/png": "[encoded data removed]",
      "text/plain": [
       "<Figure size 640x480 with 1 Axes>"
      ]
     },
     "metadata": {},
     "output_type": "display_data"
    }
   ],
   "source": [
    "freq_sorted.plot(kind = \"barh\")\n",
    "\n",
    "plt.ylabel (\"Frequency\")\n",
    "plt.xlabel (\"Count\")\n",
    "plt.title (\"Distribution of Delivery frequency\")\n",
    "\n",
    "plt.show()"
   ]
  },
  {
   "cell_type": "markdown",
   "id": "c387a8f6",
   "metadata": {},
   "source": [
    "### INSIGHTS \n",
    "\n",
    "- Some of our respondents rarely utilize delivery services even with the current era of booming e-commerce\n",
    "\n",
    "- While some still make use of the services, which indicates, not entirely, the availability of demand. "
   ]
  },
  {
   "cell_type": "markdown",
   "id": "bbb8db4c",
   "metadata": {},
   "source": [
    "9. How do respondents perceive the ease of tracking shipments?"
   ]
  },
  {
   "cell_type": "code",
   "execution_count": 190,
   "id": "ea832616",
   "metadata": {},
   "outputs": [
    {
     "data": {
      "text/plain": [
       "Tracking_Ease\n",
       "3    66\n",
       "4    50\n",
       "5    24\n",
       "2    22\n",
       "1    14\n",
       "Name: count, dtype: int64"
      ]
     },
     "execution_count": 190,
     "metadata": {},
     "output_type": "execute_result"
    }
   ],
   "source": [
    "clean_df[\"Tracking_Ease\"].value_counts()"
   ]
  },
  {
   "cell_type": "markdown",
   "id": "d4e5e18d",
   "metadata": {},
   "source": [
    "### INSIGHTS \n",
    "\n",
    "- Majority of respondents rate tracking ease as average, this suggests that a significant portion of respondents perceive tracking ease to be average. \n",
    "\n",
    "- There is room for improvement, particularly for respondents who rated tracking ease as very low "
   ]
  },
  {
   "cell_type": "markdown",
   "id": "93124f62",
   "metadata": {},
   "source": [
    "10. Does the perceived ease of tracking correlate with satisfaction levels?"
   ]
  },
  {
   "cell_type": "code",
   "execution_count": 191,
   "id": "bf8b5069",
   "metadata": {},
   "outputs": [
    {
     "data": {
      "image/png": "[encoded data removed]",
      "text/plain": [
       "<Figure size 640x480 with 1 Axes>"
      ]
     },
     "metadata": {},
     "output_type": "display_data"
    }
   ],
   "source": [
    "sns.scatterplot ( x = \"Tracking_Ease\", y = \"Satisfaction_Level\", data = clean_df)\n",
    "\n",
    "plt.show()"
   ]
  },
  {
   "cell_type": "code",
   "execution_count": 192,
   "id": "346e83a0",
   "metadata": {},
   "outputs": [
    {
     "data": {
      "text/plain": [
       "0.5152800547101916"
      ]
     },
     "execution_count": 192,
     "metadata": {},
     "output_type": "execute_result"
    }
   ],
   "source": [
    "clean_df[\"Tracking_Ease\"].corr (clean_df[\"Satisfaction_Level\"])"
   ]
  },
  {
   "cell_type": "markdown",
   "id": "de0485bd",
   "metadata": {},
   "source": [
    "### INSIGHST\n",
    "\n",
    "- The positive correlation coefficient suggests a moderate positive linear relationship between the ease of tracking shipments (\"Tracking_Ease\") and the satisfaction level (\"Satisfaction_Level\").\n",
    "\n",
    "- A coefficient of 0.515 indicates that there is a tendency for higher levels of satisfaction to be associated with easier tracking experiences, but it's not a perfect correlation.\n",
    "\n",
    "- This suggests that customers who find it easier to track their shipments tend to have higher satisfaction levels, which aligns with expectations as ease of tracking likely contributes positively to overall customer experience and satisfaction.\n",
    "\n",
    "\n",
    "\n"
   ]
  },
  {
   "cell_type": "markdown",
   "id": "27c5fbd9",
   "metadata": {},
   "source": [
    "### NOTE \n",
    "\n",
    "- However, it's important to note that correlation does not imply causation, so while these variables may be correlated, there could be other factors influencing satisfaction levels."
   ]
  },
  {
   "cell_type": "markdown",
   "id": "c919a20a",
   "metadata": {},
   "source": [
    "11. Do respondents gets their shipments on-time?"
   ]
  },
  {
   "cell_type": "code",
   "execution_count": 193,
   "id": "31e521db",
   "metadata": {},
   "outputs": [
    {
     "data": {
      "text/plain": [
       "On_Time_Delivery\n",
       "Yes    120\n",
       "No      56\n",
       "Name: count, dtype: int64"
      ]
     },
     "execution_count": 193,
     "metadata": {},
     "output_type": "execute_result"
    }
   ],
   "source": [
    "clean_df['On_Time_Delivery'].value_counts()"
   ]
  },
  {
   "cell_type": "markdown",
   "id": "83afb291",
   "metadata": {},
   "source": [
    "About 68% of respondents gets their order on time"
   ]
  },
  {
   "cell_type": "markdown",
   "id": "22e6cc37",
   "metadata": {},
   "source": [
    "12. Does the real_time_tracking have a play in them getting it on-time"
   ]
  },
  {
   "cell_type": "code",
   "execution_count": 194,
   "id": "3d0ba28d",
   "metadata": {},
   "outputs": [
    {
     "data": {
      "image/png": "[encoded data removed]",
      "text/plain": [
       "<Figure size 1000x600 with 1 Axes>"
      ]
     },
     "metadata": {},
     "output_type": "display_data"
    }
   ],
   "source": [
    "# Create a cross-tabulation between On Time Delivery and Real-Time Tracking Usage\n",
    "cross_tab = pd.crosstab(clean_df['RealTime_Tracking_Usage'], clean_df['On_Time_Delivery'])\n",
    "\n",
    "# Plot the grouped bar plot\n",
    "cross_tab.plot(kind='bar', figsize=(10, 6))\n",
    "plt.title('Relationship between On-Time Delivery and Real-Time Tracking Usage')\n",
    "plt.xlabel('On Time Delivery')\n",
    "plt.ylabel('Count')\n",
    "plt.xticks(rotation=0)  # Rotate x-axis labels if necessary\n",
    "plt.legend(title='Real-Time Tracking Usage')\n",
    "plt.show()\n"
   ]
  },
  {
   "cell_type": "markdown",
   "id": "42dd6bff",
   "metadata": {},
   "source": [
    "### Insight\n",
    "\n",
    "- There is higher percentage of on-time deliveries associated with the utilization of real-time tracking services."
   ]
  },
  {
   "cell_type": "markdown",
   "id": "3be70df6",
   "metadata": {},
   "source": [
    "13. What are the challenges faced by our respondents"
   ]
  },
  {
   "cell_type": "code",
   "execution_count": 195,
   "id": "98201b74",
   "metadata": {},
   "outputs": [
    {
     "data": {
      "text/plain": [
       "Challenges\n",
       "Delay                       87\n",
       "Communication Issues        29\n",
       "No Tracking Information     28\n",
       "Limited Tracking Options    24\n",
       "No Challenge                 4\n",
       "Others (specify)             2\n",
       "Package Misplacement         2\n",
       "Name: count, dtype: int64"
      ]
     },
     "execution_count": 195,
     "metadata": {},
     "output_type": "execute_result"
    }
   ],
   "source": [
    "clean_df[\"Challenges\"].value_counts()"
   ]
  },
  {
   "cell_type": "markdown",
   "id": "1c217ba8",
   "metadata": {},
   "source": [
    "14. How do these challenges affect satisfaction levels?\n"
   ]
  },
  {
   "cell_type": "code",
   "execution_count": 196,
   "id": "f955385d",
   "metadata": {},
   "outputs": [
    {
     "data": {
      "image/png": "[encoded data removed]",
      "text/plain": [
       "<Figure size 1000x600 with 1 Axes>"
      ]
     },
     "metadata": {},
     "output_type": "display_data"
    }
   ],
   "source": [
    "# Calculate the average satisfaction level for each category of challenges\n",
    "challenges_satisfaction = clean_df.groupby(\"Challenges\")[\"Satisfaction_Level\"].mean().sort_values(ascending=False)\n",
    "\n",
    "# Plot the bar plot\n",
    "plt.figure(figsize=(10, 6))\n",
    "challenges_satisfaction.plot(kind=\"bar\", color=\"#024089\")\n",
    "plt.title(\"Average Satisfaction Level by Challenge\")\n",
    "plt.xlabel(\"Challenges\")\n",
    "plt.ylabel(\"Average Satisfaction Level\")\n",
    "plt.xticks(rotation=45, ha=\"right\")  # Rotate x-axis labels if necessary\n",
    "plt.show()\n"
   ]
  },
  {
   "cell_type": "markdown",
   "id": "4a746b88",
   "metadata": {},
   "source": [
    "### Insight\n",
    "\n",
    "- There is a notable trend where individuals reporting no challenges exhibit higher satisfaction levels compared to those encountering challenges.\n",
    "\n",
    "\n",
    "- Among the reported challenges, delays emerge as the predominant issue, correlating with the lowest satisfaction levels"
   ]
  },
  {
   "cell_type": "markdown",
   "id": "de9fd5f3",
   "metadata": {},
   "source": [
    "15. Level of importance of RealTime Update"
   ]
  },
  {
   "cell_type": "code",
   "execution_count": 197,
   "id": "258cb28f",
   "metadata": {},
   "outputs": [
    {
     "data": {
      "image/png": "[encoded data removed]",
      "text/plain": [
       "<Figure size 640x480 with 1 Axes>"
      ]
     },
     "metadata": {},
     "output_type": "display_data"
    }
   ],
   "source": [
    "clean_df[\"RealTime_Update_Importance\"].value_counts().plot(kind = \"bar\", color = \"#004DA9\")\n",
    "\n",
    "plt.xlabel (\"Scale of Importance\")\n",
    "plt.ylabel (\"Count\")\n",
    "plt.title (\"RealTime_Update_Importance\")\n",
    "\n",
    "plt.show()"
   ]
  },
  {
   "cell_type": "markdown",
   "id": "174f359e",
   "metadata": {},
   "source": [
    "### Insight\n",
    "\n",
    "- A significant proportion of respondents express a preference for receiving real-time updates about their product. \n",
    "\n",
    "- This indicates a strong market demand for this feature."
   ]
  },
  {
   "cell_type": "markdown",
   "id": "094fabfb",
   "metadata": {},
   "source": [
    "16. What proportion of respondents are willing to use map integration features for tracking their shipments?\n",
    "\n",
    "\n"
   ]
  },
  {
   "cell_type": "code",
   "execution_count": 198,
   "id": "e6fa061b",
   "metadata": {},
   "outputs": [
    {
     "data": {
      "text/plain": [
       "Map_Integration_Willingness\n",
       "Yes    174\n",
       "No       2\n",
       "Name: count, dtype: int64"
      ]
     },
     "execution_count": 198,
     "metadata": {},
     "output_type": "execute_result"
    }
   ],
   "source": [
    "clean_df[\"Map_Integration_Willingness\"].value_counts()"
   ]
  },
  {
   "cell_type": "code",
   "execution_count": 199,
   "id": "edef1f27",
   "metadata": {},
   "outputs": [
    {
     "data": {
      "image/png": "[encoded data removed]",
      "text/plain": [
       "<Figure size 500x400 with 1 Axes>"
      ]
     },
     "metadata": {},
     "output_type": "display_data"
    }
   ],
   "source": [
    "clean_df[\"Map_Integration_Willingness\"].value_counts().plot(kind = \"bar\", figsize = (5, 4),color = \"#004DA9\" )\n",
    "\n",
    "plt.xlabel (\"Integration Willingness\")\n",
    "plt.ylabel (\"Count\")\n",
    "plt.title (\"Count of Map Integration Willingness\")\n",
    "\n",
    "plt.show()"
   ]
  },
  {
   "cell_type": "markdown",
   "id": "283534af",
   "metadata": {},
   "source": [
    "### Insights \n",
    "\n",
    "- About 99% of our respondents expressed a strong willingness to use the proposed feature, indicating a significant demand within our target market also. \n",
    "\n",
    "- The overwhelming positive response from our respondents shows  a promising opportunity for successful implementation and adoption of the feature\n"
   ]
  },
  {
   "cell_type": "markdown",
   "id": "bbfa6441",
   "metadata": {},
   "source": [
    "17. How does willingness vary across demographic"
   ]
  },
  {
   "cell_type": "code",
   "execution_count": 200,
   "id": "94b1d9b4",
   "metadata": {},
   "outputs": [
    {
     "data": {
      "image/png": "[encoded data removed]",
      "text/plain": [
       "<Figure size 640x480 with 1 Axes>"
      ]
     },
     "metadata": {},
     "output_type": "display_data"
    },
    {
     "data": {
      "image/png": "[encoded data removed]",
      "text/plain": [
       "<Figure size 640x480 with 1 Axes>"
      ]
     },
     "metadata": {},
     "output_type": "display_data"
    },
    {
     "data": {
      "image/png": "[encoded data removed]",
      "text/plain": [
       "<Figure size 640x480 with 1 Axes>"
      ]
     },
     "metadata": {},
     "output_type": "display_data"
    }
   ],
   "source": [
    "# how does willingness vary across demographic\n",
    "# Iterate over the columns \"Age Range\", \"Gender\", and \"Nationality\"\n",
    "for i, col in enumerate([\"Age Range\", \"Gender\", \"Nationality\"]):\n",
    "    plt.figure(i)\n",
    "    sns.countplot(data=clean_df, x=col, hue=\"Map_Integration_Willingness\", palette = [\"#004DA9\", \"#FDA300\"])\n",
    "    plt.title(f\"Map willingness Count by {col}\")\n",
    "    plt.xlabel(col)\n",
    "    plt.ylabel(\"Count\")\n",
    "    plt.xticks(rotation = 90)\n",
    "    plt.legend(title=\"willingness Frequency\")\n",
    "    plt.show()\n"
   ]
  },
  {
   "cell_type": "markdown",
   "id": "2cf52551",
   "metadata": {},
   "source": [
    "### Insight\n",
    "\n",
    "- This suggests that our solution appeals to a broad demographic range, as nearly all respondents express willingness to use our product.\n",
    "\n",
    "- The high performance suggests a strong support for the hypothesis that respondents would be willing to use our product upon its launch. It indicates favorable market potential and consumer interest in the proposed features. \n"
   ]
  },
  {
   "cell_type": "markdown",
   "id": "bb5cc06e",
   "metadata": {},
   "source": [
    "## CONCLUSION \n",
    "\n",
    "The high performance suggests a strong support for the hypothesis that respondents would be willing to use our product upon its launch. It indicates favorable market potential and consumer interest in the proposed features. \n"
   ]
  },
  {
   "cell_type": "code",
   "execution_count": null,
   "id": "396bfdff",
   "metadata": {},
   "outputs": [],
   "source": []
  }
 ],
 "metadata": {
  "kernelspec": {
   "display_name": "Python 3 (ipykernel)",
   "language": "python",
   "name": "python3"
  },
  "language_info": {
   "codemirror_mode": {
    "name": "ipython",
    "version": 3
   },
   "file_extension": ".py",
   "mimetype": "text/x-python",
   "name": "python",
   "nbconvert_exporter": "python",
   "pygments_lexer": "ipython3",
   "version": "3.11.5"
  }
 },
 "nbformat": 4,
 "nbformat_minor": 5
}
